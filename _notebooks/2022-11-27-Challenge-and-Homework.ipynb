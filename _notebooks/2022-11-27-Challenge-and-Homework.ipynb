{
 "cells": [
  {
   "cell_type": "markdown",
   "metadata": {},
   "source": [
    "# Challenge and Homework\n",
    "> The homework assignment and challenge in our lesson plan\n",
    "\n",
    "- toc: true \n",
    "- comments: true\n",
    "- categories: [jupyter, Week 13]"
   ]
  },
  {
   "cell_type": "markdown",
   "metadata": {},
   "source": [
    "## Challenge\n",
    "\n",
    "The list given contains multiple numbers with different values. There are also 2 variables that define the minimum and maximum valid values. Given these variables, output the values that do not fit into the valid range as well as their index values.\n"
   ]
  },
  {
   "cell_type": "code",
   "execution_count": 3,
   "metadata": {},
   "outputs": [
    {
     "name": "stdout",
     "output_type": "stream",
     "text": [
      "This is the list of numerical values that are not within the valid range 100-200, and their position in the list:\n",
      "4 is at position 3\n",
      "308 is at position 5\n",
      "5 is at position 7\n",
      "306 is at position 10\n"
     ]
    }
   ],
   "source": [
    "data = [104, 101, 4, 105, 308, 103, 5, 107,\n",
    "        100, 306, 106, 102, 108]    # list of the different numerical values\n",
    "min_valid = 100  # minimum value\n",
    "max_valid = 200  # maximum value\n",
    "\n",
    "# my work\n",
    "n = 1\n",
    "print(\"This is the list of numerical values that are not within the valid range 100-200, and their position in the list:\")\n",
    "for i in data:\n",
    "    if int(i) > max_valid or int(i) < min_valid:\n",
    "        print( str(i) + \" is at position \" + str(n))\n",
    "    n = n + 1 "
   ]
  },
  {
   "cell_type": "markdown",
   "metadata": {},
   "source": [
    "## Homework/Hacks\n",
    "\n",
    "The list given contains 4 album names - Welcome to my Nightmare, Bad Company, Nightflight, More Mayhem - and each album contains at least 4 songs within another list. Given this, write a block of code that enables users to input in integer values that correspond to the albums and songs - Welcome to my Nightmare is 1, Bad Company is 2, etc. - Then, a sentence is outputted that says Playing _______ based on which song was chosen using the numbers inputted by the user that corresponds to each song."
   ]
  },
  {
   "cell_type": "code",
   "execution_count": 14,
   "metadata": {},
   "outputs": [
    {
     "name": "stdout",
     "output_type": "stream",
     "text": [
      "now playing:  (3, 'The Black Widow')\n"
     ]
    }
   ],
   "source": [
    "albums = [\n",
    "    (\"Welcome to my Nightmare\", \"Alice Cooper\", 1975,   # First album list\n",
    "     [\n",
    "         (1, \"Welcome to my Nightmare\"),\n",
    "         (2, \"Devil's Food\"),\n",
    "         (3, \"The Black Widow\"),\n",
    "         (4, \"Some Folks\"),\n",
    "         (5, \"Only Women Bleed\"),\n",
    "     ]\n",
    "     ),\n",
    "    (\"Bad Company\", \"Bad Company\", 1974,   # Second album list\n",
    "     [\n",
    "         (1, \"Can't Get Enough\"),\n",
    "         (2, \"Rock Steady\"),\n",
    "         (3, \"Ready for Love\"),\n",
    "         (4, \"Don't Let Me Down\"),\n",
    "         (5, \"Bad Company\"),\n",
    "         (6, \"The Way I Choose\"),\n",
    "         (7, \"Movin' On\"),\n",
    "         (8, \"Seagull\"),\n",
    "     ]\n",
    "     ),\n",
    "    (\"Nightflight\", \"Budgie\", 1981,\n",
    "     [\n",
    "         (1, \"I Turned to Stone\"),\n",
    "         (2, \"Keeping a Rendezvous\"),\n",
    "         (3, \"Reaper of the Glory\"),\n",
    "         (4, \"She Used Me Up\"),\n",
    "     ]\n",
    "     ),\n",
    "    (\"More Mayhem\", \"Imelda May\", 2011,\n",
    "     [\n",
    "         (1, \"Pulling the Rug\"),\n",
    "         (2, \"Psycho\"),\n",
    "         (3, \"Mayhem\"),\n",
    "         (4, \"Kentish Town Waltz\"),\n",
    "     ]\n",
    "     ),\n",
    "]\n",
    "\n",
    "# my work\n",
    "album = input('enter a number 1-4 to select an album')\n",
    "song = input('enter a number that correlates with a song to select it')\n",
    "print(\"now playing:  \"  + str(albums[int(album) - 1][3][int(song) - 1]))"
   ]
  }
 ],
 "metadata": {
  "kernelspec": {
   "display_name": "Python 3.8.10 64-bit",
   "language": "python",
   "name": "python3"
  },
  "language_info": {
   "codemirror_mode": {
    "name": "ipython",
    "version": 3
   },
   "file_extension": ".py",
   "mimetype": "text/x-python",
   "name": "python",
   "nbconvert_exporter": "python",
   "pygments_lexer": "ipython3",
   "version": "3.8.10"
  },
  "orig_nbformat": 4,
  "vscode": {
   "interpreter": {
    "hash": "916dbcbb3f70747c44a77c7bcd40155683ae19c65e1c03b4aa3499c5328201f1"
   }
  }
 },
 "nbformat": 4,
 "nbformat_minor": 2
}
