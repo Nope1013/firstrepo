{
 "cells": [
  {
   "attachments": {},
   "cell_type": "markdown",
   "metadata": {},
   "source": [
    "#  Petite Pandas Data Analysis using Pandas and NumPy\n",
    "> A series of lessons based on the utilization of Pandas and NumPy to read and create interesting things with files and data. \n",
    "- toc: true"
   ]
  },
  {
   "attachments": {},
   "cell_type": "markdown",
   "metadata": {},
   "source": [
    "# Predictive Analysis\n",
    "Predictive analysis is the use of statistical analysis, data mining, and machine learning techniques to analyze current and historical data in order to make predictions about future events or behaviors. It involves identifying pattenrs and trends in data, and then using that information to forecast what is likely to happen in the future.\n",
    "\n",
    "Predictive analysis is used in a wide range of applications, from forecasting sales and demand, to predicting customer behavior, to detecting fraudulent transactions. It involves collecting and analyzing data from a variety of sources, including historical data, customer data, financial data, and social media data, among others.\n",
    "\n",
    "The process of predictive analysis typically involves the following steps:\n",
    "1. Defining the problem and identifying the relevant data sources\n",
    "2. Collecting and Cleaning data\n",
    "3. Exploring and analyzing the data to identify patterns and trends\n",
    "4. Selecting an appropriate model or algorithm to use for predictions\n",
    "5. Training and validating the model using historical data\n",
    "6. Using the model to make predictions on new data\n",
    "7. Monitoring and evaluating the performance of the model over time\n",
    "\n",
    "Predictive analysis can help organizations make more informed decisions, improve efficiency, and gain a competitive advantage by leveraging insights from data.\n",
    "\n",
    "It is most commonly used in retail, where workers try to predict which products would be most popular and try to advertise those products as much as possible, and also healthcare, where algorithms analyze patterns and reveal prerequisites for diseases and suggest preventive treatment, predict the results of various treatments and choose the best option for each patient individually, and predict disease outbreaks and epidemics."
   ]
  },
  {
   "attachments": {},
   "cell_type": "markdown",
   "metadata": {},
   "source": [
    "# 1. Intro to NumPy and the features it consists\n",
    "\n",
    "Numpy, by definition, is the fundamental package for scientific computing in Python which can be used to perform meth operations, provide multidimensional array objects and makes data analysis much easier. Numpy is very important and useful when it comes to data analysis, as it can easily use its features to complete and perform any mathematical operation, as well as analyze data files. \n",
    "\n",
    "If you don't already have numpy installed, you can do so using ```conda install numpy``` or ```pip install numpy```\n",
    "\n",
    "Once that is complete, to import numpy in your code, all you must do is:"
   ]
  },
  {
   "cell_type": "code",
   "execution_count": 2,
   "metadata": {},
   "outputs": [],
   "source": [
    "import numpy as np"
   ]
  },
  {
   "attachments": {},
   "cell_type": "markdown",
   "metadata": {},
   "source": [
    "# 2. Using NumPy to create arrays\n",
    "An array is the central data structure of the NumPy library. They are used as containers which are able to store more than one item at the same time. Using the function ```np.array``` is used to create an array, in which you can create multidimensional arrays. \n",
    "\n",
    "Shown below is how to create a 1D array:"
   ]
  },
  {
   "cell_type": "code",
   "execution_count": 3,
   "metadata": {},
   "outputs": [
    {
     "name": "stdout",
     "output_type": "stream",
     "text": [
      "[1 2 3]\n"
     ]
    }
   ],
   "source": [
    "a = np.array([1, 2, 3])\n",
    "print(a) \n",
    "# this creates a 1D array"
   ]
  },
  {
   "attachments": {},
   "cell_type": "markdown",
   "metadata": {},
   "source": [
    "How could you create a 3D array based on knowing how to make a 1D array?"
   ]
  },
  {
   "cell_type": "code",
   "execution_count": 4,
   "metadata": {},
   "outputs": [
    {
     "name": "stdout",
     "output_type": "stream",
     "text": [
      "[[1 2 3]\n",
      " [4 5 6]\n",
      " [7 8 9]]\n"
     ]
    }
   ],
   "source": [
    "b = np.array([[1, 2, 3], [4, 5, 6], [7, 8, 9]])\n",
    "print(b)"
   ]
  },
  {
   "attachments": {},
   "cell_type": "markdown",
   "metadata": {},
   "source": [
    "Arrays can be printed in different ways, especially a more readable format. As we have seen, arrays are printed in rows and columns, but we can change that by using the ```reshape``` function "
   ]
  },
  {
   "cell_type": "code",
   "execution_count": 5,
   "metadata": {},
   "outputs": [
    {
     "name": "stdout",
     "output_type": "stream",
     "text": [
      "[[1 2 3 4 5 6 7 8 9]]\n"
     ]
    }
   ],
   "source": [
    "c = np.array([[1, 2, 3], [4, 5, 6], [7, 8, 9]])\n",
    "print(c.reshape(1, 9)) # organizes it all in a single line of output"
   ]
  },
  {
   "attachments": {},
   "cell_type": "markdown",
   "metadata": {},
   "source": [
    "In the code segment below, we can also specially select certain rows and columns from the array to further analyze selective data."
   ]
  },
  {
   "cell_type": "code",
   "execution_count": 6,
   "metadata": {},
   "outputs": [
    {
     "name": "stdout",
     "output_type": "stream",
     "text": [
      "[[4 5]\n",
      " [7 8]]\n"
     ]
    }
   ],
   "source": [
    "print(c[1:, :2])\n",
    "# the 1: means \"start at row 1 and select all the remaining rows\"\n",
    "# the :2 means \"select the first two columns\""
   ]
  },
  {
   "attachments": {},
   "cell_type": "markdown",
   "metadata": {},
   "source": [
    "# 3. Basic array operations\n",
    "\n",
    "One of the most basic operations that can be performed on arrays is arithmetic operations. With numpy, it is very easy to perform arithmetic operations on arrays. You can add, subtract, multiply and divide arrays, just like you would with regular numbers. When performing these operations, numpy applies the operation element-wise, meaning that it performs the operation on each element in the array separately. This makes it easy to perform operations on large amounts of data quickly and efficiently."
   ]
  },
  {
   "cell_type": "code",
   "execution_count": 7,
   "metadata": {},
   "outputs": [
    {
     "name": "stdout",
     "output_type": "stream",
     "text": [
      "[5 7 9]\n",
      "[-3 -3 -3]\n",
      "[ 4 10 18]\n",
      "[0.25 0.4  0.5 ]\n"
     ]
    }
   ],
   "source": [
    "a = np.array([1, 2, 3])\n",
    "b = np.array([4, 5, 6])\n",
    "print(a + b) # adds each value based on the column the integer is in\n",
    "print(a - b) # subtracts each value based on the column the integer is in\n",
    "print(a * b) # multiplies each value based on the column the integer is in\n",
    "print(a / b) # divides each value based on the column the integer is in"
   ]
  },
  {
   "cell_type": "code",
   "execution_count": 8,
   "metadata": {},
   "outputs": [
    {
     "name": "stdout",
     "output_type": "stream",
     "text": [
      "[ 54.59815003 148.4131591  403.42879349]\n",
      "[2.         2.23606798 2.44948974]\n"
     ]
    }
   ],
   "source": [
    "d = np.exp(b)\n",
    "e = np.sqrt(b)\n",
    "print(d)\n",
    "print(e)"
   ]
  },
  {
   "attachments": {},
   "cell_type": "markdown",
   "metadata": {},
   "source": [
    "From the knowledge of how to use more advanced mathematical expressions than the basic 4 mathematical operations such as exponent and square root, now can you code how to calculate the 3 main trig expressions (sin, cos, tan), natural log, and log10 of a 1D array."
   ]
  },
  {
   "cell_type": "code",
   "execution_count": 11,
   "metadata": {},
   "outputs": [
    {
     "name": "stdout",
     "output_type": "stream",
     "text": [
      "[0.84147098 0.90929743 0.14112001]\n",
      "[ 0.54030231 -0.41614684 -0.9899925 ]\n",
      "[ 1.55740772 -2.18503986 -0.14254654]\n",
      "[0.         0.69314718 1.09861229]\n",
      "[0.         0.30103    0.47712125]\n",
      "[-0.7568025  -0.95892427 -0.2794155 ]\n",
      "[-0.65364362  0.28366219  0.96017029]\n",
      "[ 1.15782128 -3.38051501 -0.29100619]\n",
      "[1.38629436 1.60943791 1.79175947]\n",
      "[0.60205999 0.69897    0.77815125]\n"
     ]
    }
   ],
   "source": [
    "a = np.array([1, 2, 3])\n",
    "b = np.array([4, 5, 6])\n",
    "sin = np.sin(a) # calculate sin\n",
    "print(sin)\n",
    "cos = np.cos(a) # calculate sin\n",
    "print(cos)# calculate cos\n",
    "tan = np.tan(a) # calculate sin\n",
    "print(tan)# calculate tan\n",
    "natlog = np.log(a) # calculate sin\n",
    "print(natlog)# calculate natural log\n",
    "log10 = np.log10(a) # calculate sin\n",
    "print(log10)# calculate log10\n",
    "\n",
    "sin = np.sin(b) # calculate sin\n",
    "print(sin)\n",
    "cos = np.cos(b) # calculate sin\n",
    "print(cos)# calculate cos\n",
    "tan = np.tan(b) # calculate sin\n",
    "print(tan)# calculate tan\n",
    "natlog = np.log(b) # calculate sin\n",
    "print(natlog)# calculate natural log\n",
    "log10 = np.log10(b) # calculate sin\n",
    "print(log10)# calculate log10"
   ]
  },
  {
   "attachments": {},
   "cell_type": "markdown",
   "metadata": {},
   "source": [
    "# 4. Data analysis using numpy\n",
    "Numpy provides a convenient and powerful way to perform data analysis tasks on large datasets. One of the most common tasks in data analysis is finding the mean, median, and standard deviation of a dataset. Numpy provides functions to perform these operations quickly and easily. The mean function calculates the average value of the data, while the median function calculates the middle value in the data. The standard deviation function calculates how spread out the data is from the mean. Additionally, numpy provides functions to find the minimum and maximum values in the data. These functions are very useful for gaining insight into the properties of large datasets and can be used for a wide range of data analysis tasks."
   ]
  },
  {
   "cell_type": "code",
   "execution_count": 12,
   "metadata": {},
   "outputs": [
    {
     "name": "stdout",
     "output_type": "stream",
     "text": [
      "10.2\n",
      "12.0\n",
      "6.04648658313239\n",
      "2\n",
      "19\n"
     ]
    }
   ],
   "source": [
    "data = np.array([2, 5, 12, 13, 19])\n",
    "print(np.mean(data)) # finds the mean of the dataset\n",
    "print(np.median(data)) # finds the median of the dataset\n",
    "print(np.std(data)) # finds the standard deviation of the dataset\n",
    "print(np.min(data)) # finds the min of the dataset\n",
    "print(np.max(data)) # finds the max of the dataset"
   ]
  },
  {
   "attachments": {},
   "cell_type": "markdown",
   "metadata": {},
   "source": [
    "Now from learning this, can you find a different way from how we can solve the sum or products of a dataset other than how we learned before?"
   ]
  },
  {
   "cell_type": "code",
   "execution_count": 13,
   "metadata": {},
   "outputs": [
    {
     "name": "stdout",
     "output_type": "stream",
     "text": [
      "51\n"
     ]
    }
   ],
   "source": [
    "# create a different way of solving the sum or products of a dataset from what we learned above\n",
    "data = np.array([2, 5, 12, 13, 19])\n",
    "print(np.sum(data))"
   ]
  },
  {
   "attachments": {},
   "cell_type": "markdown",
   "metadata": {},
   "source": [
    "Numpy also has the ability to handle CSV files, which are commonly used to store and exchange large datasets. By importing CSV files into numpy arrays, we can easily perform complex operations and analysis on the data, making numpy an essential tool for data scientists and researchers.\n",
    "\n",
    "```genfromtxt``` and ```loadtxt``` are two functions in the numpy library that can be used to read data from text files, including CSV files."
   ]
  },
  {
   "attachments": {},
   "cell_type": "markdown",
   "metadata": {},
   "source": [
    "```genfromtxt``` is a more advanced function that can be used to read text files that have more complex structures, including CSV files. ```genfromtxt``` can handle files that have missing or invalid data, or files that have columns of different data types. It can also be used to skip header lines or to read only specific columns from the file. "
   ]
  },
  {
   "cell_type": "code",
   "execution_count": 14,
   "metadata": {},
   "outputs": [
    {
     "name": "stdout",
     "output_type": "stream",
     "text": [
      "[['Name' ' Position' ' Average' ' HR' ' RBI' ' OPS' ' JerseyNumber']\n",
      " ['Manny Machado' ' 3B' ' .298' ' 32' ' 102' ' .897' ' 13']\n",
      " ['Fernando Tatis Jr' ' RF' ' .281' ' 42' ' 97' ' .975' ' 23']\n",
      " ['Juan Soto' ' LF' ' .242' ' 27' ' 62' ' .853' ' 22']\n",
      " ['Xander Bogaerts' ' SS' ' .307' ' 15' ' 73' ' .833' ' 2']\n",
      " ['Nelson Cruz' ' DH' ' .234' ' 10' ' 64' ' .651' ' 32']\n",
      " ['Matt Carpenter' ' DH' ' .305' ' 15' ' 37' ' 1.138' ' 14']\n",
      " ['Jake Cronenworth' ' 1B' ' .239' ' 17' ' 88' ' .722' ' 9']\n",
      " ['Ha-Seong Kim' ' 2B' ' .251' ' 11' ' 59' ' .708' ' 7']\n",
      " ['Trent Grisham' ' CF' ' .184' ' 17' ' 53' ' .626' ' 1']\n",
      " ['Luis Campusano' ' C' ' .250' ' 1' ' 5' ' .593' ' 12']\n",
      " ['Austin Nola' ' C' ' .251' ' 4' ' 40' ' .649' ' 26']\n",
      " ['Jose Azocar' ' OF' ' .257' ' 0' ' 10' ' .630' ' 28']]\n"
     ]
    }
   ],
   "source": [
    "import numpy as np\n",
    "\n",
    "padres = np.genfromtxt('files/padres.csv', delimiter=',', dtype=str, encoding='utf-8')\n",
    "# delimiter indicates that the data is separated into columns which is distinguished by commas\n",
    "# genfromtxt is used to read the csv file itself\n",
    "# dtype is used to have numpy automatically detect the data type in the csv file\n",
    "\n",
    "print(padres)"
   ]
  },
  {
   "attachments": {},
   "cell_type": "markdown",
   "metadata": {},
   "source": [
    "```loadtxt``` is a simpler function that can be used to read simple text files that have a regular structure, such as files that have only one type of data (such as all integers or all floats). ```loadtxt``` can be faster than ```genfromtxt``` because it assumes that the data in the file is well-structured and can be easily parsed."
   ]
  },
  {
   "cell_type": "code",
   "execution_count": 15,
   "metadata": {},
   "outputs": [
    {
     "name": "stdout",
     "output_type": "stream",
     "text": [
      "[['Name' ' Position' ' Average' ' HR' ' RBI' ' OPS' ' JerseyNumber']\n",
      " ['Manny Machado' ' 3B' ' .298' ' 32' ' 102' ' .897' ' 13']\n",
      " ['Fernando Tatis Jr' ' RF' ' .281' ' 42' ' 97' ' .975' ' 23']\n",
      " ['Juan Soto' ' LF' ' .242' ' 27' ' 62' ' .853' ' 22']\n",
      " ['Xander Bogaerts' ' SS' ' .307' ' 15' ' 73' ' .833' ' 2']\n",
      " ['Nelson Cruz' ' DH' ' .234' ' 10' ' 64' ' .651' ' 32']\n",
      " ['Matt Carpenter' ' DH' ' .305' ' 15' ' 37' ' 1.138' ' 14']\n",
      " ['Jake Cronenworth' ' 1B' ' .239' ' 17' ' 88' ' .722' ' 9']\n",
      " ['Ha-Seong Kim' ' 2B' ' .251' ' 11' ' 59' ' .708' ' 7']\n",
      " ['Trent Grisham' ' CF' ' .184' ' 17' ' 53' ' .626' ' 1']\n",
      " ['Luis Campusano' ' C' ' .250' ' 1' ' 5' ' .593' ' 12']\n",
      " ['Austin Nola' ' C' ' .251' ' 4' ' 40' ' .649' ' 26']\n",
      " ['Jose Azocar' ' OF' ' .257' ' 0' ' 10' ' .630' ' 28']]\n"
     ]
    }
   ],
   "source": [
    "import numpy as np\n",
    "\n",
    "padres = np.loadtxt('files/padres.csv', delimiter=',', dtype=str, encoding='utf-8')\n",
    "print(padres)"
   ]
  },
  {
   "cell_type": "code",
   "execution_count": 16,
   "metadata": {},
   "outputs": [
    {
     "name": "stdout",
     "output_type": "stream",
     "text": [
      "Name, Position, Average, HR, RBI, OPS, JerseyNumber\n",
      "Manny Machado, 3B, .298, 32, 102, .897, 13\n",
      "Fernando Tatis Jr, RF, .281, 42, 97, .975, 23\n",
      "Juan Soto, LF, .242, 27, 62, .853, 22\n",
      "Xander Bogaerts, SS, .307, 15, 73, .833, 2\n",
      "Nelson Cruz, DH, .234, 10, 64, .651, 32\n",
      "Matt Carpenter, DH, .305, 15, 37, 1.138, 14\n",
      "Jake Cronenworth, 1B, .239, 17, 88, .722, 9\n",
      "Ha-Seong Kim, 2B, .251, 11, 59, .708, 7\n",
      "Trent Grisham, CF, .184, 17, 53, .626, 1\n",
      "Luis Campusano, C, .250, 1, 5, .593, 12\n",
      "Austin Nola, C, .251, 4, 40, .649, 26\n",
      "Jose Azocar, OF, .257, 0, 10, .630, 28\n"
     ]
    }
   ],
   "source": [
    "for i in padres:\n",
    "    print(\",\".join(i))"
   ]
  },
  {
   "attachments": {},
   "cell_type": "markdown",
   "metadata": {},
   "source": [
    "# Pandas\n",
    "### What is Pandas\n",
    "Pandas is a Python library used for working with data sets. A python library is something  It has functions for analyzing, cleaning, exploring, and manipulating data.\n",
    "\n",
    "### Why Use Pandas?\n",
    "Pandas allows us to analyze big data and make conclusions based on statistical theories. Pandas can clean messy data sets, and make them readable and relevant. Also it is a part of data analysis, and data manipulation.\n",
    "\n",
    "### What Can Pandas Do?\n",
    "Pandas gives you answers about the data. Like:\n",
    "- Is there a correlation between two or more columns?\n",
    "- What is average value\n",
    "- Max value\n",
    "- Min value\n",
    "- How to load data \n",
    "- Delete data \n",
    "- Sort Data.\n",
    "\n",
    "Pandas are also able to delete rows that are not relevant, or contains wrong values, like empty or NULL values. This is called cleaning the data."
   ]
  },
  {
   "attachments": {},
   "cell_type": "markdown",
   "metadata": {},
   "source": [
    "# Basics of Pandas."
   ]
  },
  {
   "cell_type": "code",
   "execution_count": 17,
   "metadata": {},
   "outputs": [],
   "source": [
    "import pandas as pd\n",
    "# What this does is it calls the python pandas library and this code segment is needed whenever incorporating pandas."
   ]
  },
  {
   "attachments": {},
   "cell_type": "markdown",
   "metadata": {},
   "source": [
    "#### DICTIONARIES AND DATASETS\n",
    "- One way you are able to manipulate a pandas data set is by creating a dictionary and calling it as seen with the dict data 1 and pd.dataframe which is a way to print the set."
   ]
  },
  {
   "cell_type": "code",
   "execution_count": 18,
   "metadata": {},
   "outputs": [
    {
     "name": "stdout",
     "output_type": "stream",
     "text": [
      "      teams  standings\n",
      "0     BARCA          1\n",
      "1      REAL          2\n",
      "2  ATLETICO          3\n"
     ]
    }
   ],
   "source": [
    "import pandas as pd\n",
    "\n",
    "data1 = {\n",
    "  'teams': [\"BARCA\", \"REAL\", \"ATLETICO\"],\n",
    "  'standings': [1, 2, 3]\n",
    "}\n",
    "\n",
    "myvar = pd.DataFrame(data1)\n",
    "\n",
    "print(myvar)\n"
   ]
  },
  {
   "attachments": {},
   "cell_type": "markdown",
   "metadata": {},
   "source": [
    "### Indexing and manipulaton of data through lists.\n",
    "- With pandas you can also organize the data which is one of its biggest perks, we call this indexing, this is when we define the first column in a data frame."
   ]
  },
  {
   "cell_type": "code",
   "execution_count": 19,
   "metadata": {},
   "outputs": [
    {
     "name": "stdout",
     "output_type": "stream",
     "text": [
      "math       1.0\n",
      "science    1.0\n",
      "pe         0.2\n",
      "dtype: float64\n"
     ]
    }
   ],
   "source": [
    "# Here is an example using lists and an index.\n",
    "import pandas as pd \n",
    "\n",
    "score = [5/5, 5/5, 1/5]\n",
    "\n",
    "myvar = pd.Series(score, index = [\"math\", \"science\", \"pe\"])\n",
    "\n",
    "print(myvar)"
   ]
  },
  {
   "attachments": {},
   "cell_type": "markdown",
   "metadata": {},
   "source": [
    "# Pandas Classes \n",
    "Within pandas the library consits of a lot of functions which allow you to manipulate datasets in lists dictionsaries and csv files here are some of the ones we are going to cover (hint: take notes on these)\n",
    "- Series\n",
    "- Index\n",
    "- PeriodIndex\n",
    "- DataframeGroupedBy\n",
    "- Categorical\n",
    "- Time Stamp\n"
   ]
  },
  {
   "attachments": {},
   "cell_type": "markdown",
   "metadata": {},
   "source": [
    "#  PeriodIndex \n",
    "- This allows for a way to repeat data over time that it occurs as seen from january 2022 to december 2023. You can use Y for years, M for months, and D for days.\n"
   ]
  },
  {
   "cell_type": "code",
   "execution_count": 20,
   "metadata": {},
   "outputs": [
    {
     "name": "stdout",
     "output_type": "stream",
     "text": [
      "PeriodIndex(['2022-01', '2022-02', '2022-03', '2022-04', '2022-05', '2022-06',\n",
      "             '2022-07', '2022-08', '2022-09', '2022-10', '2022-11', '2022-12'],\n",
      "            dtype='period[M]')\n"
     ]
    }
   ],
   "source": [
    "import pandas as pd\n",
    "\n",
    "\n",
    "time = pd.period_range('2022-01', '2022-12', freq='M')\n",
    "\n",
    "\n",
    "print(time)"
   ]
  },
  {
   "attachments": {},
   "cell_type": "markdown",
   "metadata": {},
   "source": [
    "Now implement a way to show a period index from June 2022 to July 2023 in days."
   ]
  },
  {
   "cell_type": "code",
   "execution_count": 26,
   "metadata": {},
   "outputs": [
    {
     "name": "stdout",
     "output_type": "stream",
     "text": [
      "PeriodIndex(['2022-06-01', '2022-06-02', '2022-06-03', '2022-06-04',\n",
      "             '2022-06-05', '2022-06-06', '2022-06-07', '2022-06-08',\n",
      "             '2022-06-09', '2022-06-10',\n",
      "             ...\n",
      "             '2023-06-22', '2023-06-23', '2023-06-24', '2023-06-25',\n",
      "             '2023-06-26', '2023-06-27', '2023-06-28', '2023-06-29',\n",
      "             '2023-06-30', '2023-07-01'],\n",
      "            dtype='period[D]', length=396)\n"
     ]
    }
   ],
   "source": [
    "# use period index to show - in days - June 2022 to July 2023\n",
    "import pandas as pd\n",
    "\n",
    "\n",
    "time = pd.period_range('2022-06', '2023-07', freq='D')\n",
    "\n",
    "\n",
    "print(time)"
   ]
  },
  {
   "attachments": {},
   "cell_type": "markdown",
   "metadata": {},
   "source": [
    "# Dataframe Grouped By \n",
    "- This allows for you to organize your data and calculate the different functions such as\n",
    "- count(): returns the number of non-null values in each group.\n",
    "- sum(): returns the sum of values in each group.\n",
    "- mean(): returns the mean of values in each group.\n",
    "- min(): returns the minimum value in each group.\n",
    "- max(): returns the maximum value in each group.\n",
    "- median(): returns the median of values in each group.\n",
    "- var(): returns the variance of values in each group.\n",
    "- agg(): applies one or more functions to each group and returns a new DataFrame with the results.\n"
   ]
  },
  {
   "cell_type": "code",
   "execution_count": 32,
   "metadata": {},
   "outputs": [
    {
     "name": "stdout",
     "output_type": "stream",
     "text": [
      "           Value\n",
      "Category        \n",
      "E         187.25\n",
      "F         955.50\n"
     ]
    }
   ],
   "source": [
    "import pandas as pd\n",
    "\n",
    "data = {\n",
    "    'Category': ['E', 'F', 'E', 'F', 'E', 'F', 'E', 'F'],\n",
    "    'Value': [100, 250, 156, 255, 240, 303, 253, 3014]\n",
    "}\n",
    "df = pd.DataFrame(data)\n",
    "\n",
    "\n",
    "grouped = df.groupby('Category').mean() #GUESS WHAT THIS WOULD BE IF WE WERE LOOKING FOR COMBINED TOTALS!() # would be the sum\n",
    "\n",
    "print(grouped)\n"
   ]
  },
  {
   "attachments": {},
   "cell_type": "markdown",
   "metadata": {},
   "source": [
    "### Categorical \n",
    "- This sets up a category for something and puts it within the categories and allows for better orginzation "
   ]
  },
  {
   "cell_type": "code",
   "execution_count": 27,
   "metadata": {},
   "outputs": [
    {
     "name": "stdout",
     "output_type": "stream",
     "text": [
      "['yellow', 'orange', 'blue', 'yellow', 'orange']\n",
      "Categories (3, object): ['yellow', 'orange', 'blue']\n"
     ]
    }
   ],
   "source": [
    "import pandas as pd\n",
    "\n",
    "colors = pd.Categorical(['yellow', 'orange', 'blue', 'yellow', 'orange'], categories=['yellow', 'orange', 'blue'])\n",
    "\n",
    "print(colors)\n"
   ]
  },
  {
   "attachments": {},
   "cell_type": "markdown",
   "metadata": {},
   "source": [
    "### Timestamp Class\n",
    "- This allows to display a single time which can be useful when working with datasets that deal with time allowing you to manipulate the time you do something and how you do it. "
   ]
  },
  {
   "cell_type": "code",
   "execution_count": 28,
   "metadata": {},
   "outputs": [
    {
     "name": "stdout",
     "output_type": "stream",
     "text": [
      "2023-02-05 02:00:00\n"
     ]
    }
   ],
   "source": [
    "import pandas as pd\n",
    "\n",
    "\n",
    "timing = pd.Timestamp('2023-02-05 02:00:00')\n",
    "\n",
    "print(timing)\n"
   ]
  },
  {
   "attachments": {},
   "cell_type": "markdown",
   "metadata": {},
   "source": [
    "# CSV FILES!\n",
    "- A csv file contains data and within pandas you are able to call the function and you are able to manipulate the data with the certain data classes talked about above. "
   ]
  },
  {
   "attachments": {},
   "cell_type": "markdown",
   "metadata": {},
   "source": [
    "- Name, Position, Average, HR, RBI, OPS, JerseyNumber\n",
    "- Manny Machado, 3B, .298, 32, 102, .897, 13\n",
    "- Tatis Jr, RF, .281, 42, 97, .975, 23\n",
    "- Juan Soto, LF, .242, 27, 62, .853, 22\n",
    "- Xanger Bogaerts, SS, .307, 15, 73, .833, 2\n",
    "- Nelson Cruz, DH, .234, 10, 64, .651, 32\n",
    "- Matt Carpenter, DH, .305, 15, 37, 1.138, 14\n",
    "- Cronezone, 1B, .239, 17, 88, .722, 9\n",
    "- Ha-Seong Kim, 2B, .251, 11, 59, .708, 7\n",
    "- Trent Grisham, CF, .184, 17, 53, .626, 1\n",
    "- Luis Campusano, C, .250, 1, 5, .593, 12\n",
    "- Austin Nola, C, .251, 4, 40, .649, 26\n",
    "- Jose Azocar, OF, .257, 0, 10, .630, 28\n",
    "\n",
    "QUESTION: WHAT DO YOU GUYS THINK THE INDEX FOR THIS WOULD BE?\n",
    "Answer: Name, Position, Average, HR, RBI, OPS, JerseyNumber"
   ]
  },
  {
   "attachments": {},
   "cell_type": "markdown",
   "metadata": {},
   "source": [
    "Can you explain what is going on in this code segment below. (hint: define what ascending= false means, and df. head means)\n",
    "- listing top 10 players and bottom 10 players, but by name\n",
    "- df.head seems like it means the beginning of the data\n",
    "- ascending = false ensures that they are placed alphabetical order"
   ]
  },
  {
   "cell_type": "code",
   "execution_count": 29,
   "metadata": {},
   "outputs": [
    {
     "name": "stdout",
     "output_type": "stream",
     "text": [
      "--Duration Top 10---------\n",
      "                Name  Position   Average   HR   RBI    OPS   JerseyNumber\n",
      "3    Xander Bogaerts        SS     0.307   15    73  0.833              2\n",
      "8      Trent Grisham        CF     0.184   17    53  0.626              1\n",
      "4        Nelson Cruz        DH     0.234   10    64  0.651             32\n",
      "5     Matt Carpenter        DH     0.305   15    37  1.138             14\n",
      "0      Manny Machado        3B     0.298   32   102  0.897             13\n",
      "9     Luis Campusano         C     0.250    1     5  0.593             12\n",
      "2          Juan Soto        LF     0.242   27    62  0.853             22\n",
      "11       Jose Azocar        OF     0.257    0    10  0.630             28\n",
      "6   Jake Cronenworth        1B     0.239   17    88  0.722              9\n",
      "7       Ha-Seong Kim        2B     0.251   11    59  0.708              7\n",
      "--Duration Bottom 10------\n",
      "                 Name  Position   Average   HR   RBI    OPS   JerseyNumber\n",
      "4         Nelson Cruz        DH     0.234   10    64  0.651             32\n",
      "5      Matt Carpenter        DH     0.305   15    37  1.138             14\n",
      "0       Manny Machado        3B     0.298   32   102  0.897             13\n",
      "9      Luis Campusano         C     0.250    1     5  0.593             12\n",
      "2           Juan Soto        LF     0.242   27    62  0.853             22\n",
      "11        Jose Azocar        OF     0.257    0    10  0.630             28\n",
      "6    Jake Cronenworth        1B     0.239   17    88  0.722              9\n",
      "7        Ha-Seong Kim        2B     0.251   11    59  0.708              7\n",
      "1   Fernando Tatis Jr        RF     0.281   42    97  0.975             23\n",
      "10        Austin Nola         C     0.251    4    40  0.649             26\n",
      "Name,  Position,  Average,  HR,  RBI,  OPS,  JerseyNumber\n"
     ]
    }
   ],
   "source": [
    "import pandas as pd\n",
    "\n",
    "#read csv and sort 'Duration' largest to smallest\n",
    "df = pd.read_csv('files/padres.csv').sort_values(by=['Name'], ascending=False)\n",
    "\n",
    "print(\"--Duration Top 10---------\")\n",
    "print(df.head(10))\n",
    "\n",
    "print(\"--Duration Bottom 10------\")\n",
    "print(df.tail(10))\n",
    "print(', '.join(df.tail(10)))"
   ]
  },
  {
   "cell_type": "code",
   "execution_count": 33,
   "metadata": {},
   "outputs": [
    {
     "name": "stdout",
     "output_type": "stream",
     "text": [
      "The mode of the 'total_rooms' column is: 0    1527.0\n",
      "Name: total_rooms, dtype: float64\n"
     ]
    }
   ],
   "source": [
    "import pandas as pd\n",
    "\n",
    "\n",
    "df = pd.read_csv(\"./files/housing.csv\")\n",
    "\n",
    "\n",
    "mode_total_rooms = df['total_rooms'].mode()\n",
    "\n",
    "\n",
    "print(f\"The mode of the 'total_rooms' column is: {mode_total_rooms}\")"
   ]
  },
  {
   "cell_type": "code",
   "execution_count": 34,
   "metadata": {},
   "outputs": [
    {
     "name": "stdout",
     "output_type": "stream",
     "text": [
      "             total_rooms  population  longitude\n",
      "total_rooms                                    \n",
      "2.0                  2.0         6.0          1\n",
      "6.0                  6.0         8.0          1\n",
      "8.0                  8.0        13.0          1\n",
      "11.0                11.0        24.0          1\n",
      "12.0                12.0        18.0          1\n",
      "...                  ...         ...        ...\n",
      "30450.0          30450.0      9419.0          1\n",
      "32054.0          32054.0     15507.0          1\n",
      "32627.0          32627.0     28566.0          1\n",
      "37937.0          37937.0     16122.0          1\n",
      "39320.0          39320.0     16305.0          1\n",
      "\n",
      "[5926 rows x 3 columns]\n"
     ]
    }
   ],
   "source": [
    "import pandas as pd\n",
    "\n",
    "df = pd.read_csv(\"./files/housing.csv\")\n",
    "\n",
    "\n",
    "grouped_df = df.groupby('total_rooms')\n",
    "\n",
    "\n",
    "agg_df = grouped_df.agg({'total_rooms': 'sum', 'population': 'mean', 'longitude': 'count'})\n",
    "\n",
    "# WHAT DO YOU GUYS THINK df.agg means in context of pandas and what does it stand for.\n",
    "\n",
    "\n",
    "print(agg_df)\n"
   ]
  },
  {
   "attachments": {},
   "cell_type": "markdown",
   "metadata": {},
   "source": [
    "# Our Frontend Data Analysis Project\n",
    "[Link](https://paravsalaniwal.github.io/T3Project/DataAnalysisProject/)"
   ]
  },
  {
   "attachments": {},
   "cell_type": "markdown",
   "metadata": {},
   "source": [
    "# Popcorn Hacks\n",
    "- Complete fill in the blanks for Predictive Analysis Numpy\n",
    "- Takes notes on Panda where it asks you to\n",
    "- Complete code segment tasks in Panda and Numpy\n",
    "\n",
    "# Main Hack\n",
    "- Make a data file - content is up to you, just make sure there are integer values - and print\n",
    "- Run Panda and Numpy commands\n",
    "    - Panda:\n",
    "        - Find Min and Max values\n",
    "        - Sort in order - can be order of least to greatest or vice versa\n",
    "        - Create a smaller dataframe and merge it with your data file\n",
    "    - Numpy:\n",
    "        -  Random number generation\n",
    "        - create a multi-dimensional array (multiple elements)\n",
    "        - create an array with linearly spaced intervals between values\n"
   ]
  },
  {
   "cell_type": "code",
   "execution_count": 36,
   "metadata": {},
   "outputs": [
    {
     "name": "stdout",
     "output_type": "stream",
     "text": [
      "     Duration  Pulse  Maxpulse  Calories\n",
      "0          60    110       130     409.1\n",
      "1          60    117       145     479.0\n",
      "2          60    103       135     340.0\n",
      "3          45    109       175     282.4\n",
      "4          45    117       148     406.0\n",
      "..        ...    ...       ...       ...\n",
      "164        60    105       140     290.8\n",
      "165        60    110       145     300.4\n",
      "166        60    115       145     310.2\n",
      "167        75    120       150     320.4\n",
      "168        75    125       150     330.4\n",
      "\n",
      "[169 rows x 4 columns]\n"
     ]
    }
   ],
   "source": [
    "# This is a csv fule I had in my repository, I think it's from our nutrition project and demonstrates excercise duration, pulse, maximum pulse reached, and calories burned\n",
    "gains = pd.read_csv(\"./files/data.csv\")\n",
    "print(gains)"
   ]
  },
  {
   "cell_type": "code",
   "execution_count": 37,
   "metadata": {},
   "outputs": [
    {
     "name": "stdout",
     "output_type": "stream",
     "text": [
      "Max:\n",
      "   Category     Num\n",
      "0  Duration   300.0\n",
      "1     Pulse   159.0\n",
      "2  Maxpulse   184.0\n",
      "3  Calories  1860.4\n",
      "Min:\n",
      "   Category    Num\n",
      "0  Duration   15.0\n",
      "1     Pulse   80.0\n",
      "2  Maxpulse  100.0\n",
      "3  Calories   50.3\n"
     ]
    }
   ],
   "source": [
    "# maximum and minimum values in a readable format\n",
    "max = {\n",
    "    'Category': [],\n",
    "    'Num': []\n",
    "}\n",
    "min = {\n",
    "    'Category': [],\n",
    "    'Num': []\n",
    "}\n",
    "for category in ['Duration', 'Pulse', 'Maxpulse', 'Calories']:\n",
    "    max['Category'].append(category)\n",
    "    min['Category'].append(category)\n",
    "    max['Num'].append(gains[category].max())\n",
    "    min['Num'].append(gains[category].min())\n",
    "maxAll = pd.DataFrame(max)\n",
    "minAll = pd.DataFrame(min)\n",
    "\n",
    "print(\"Max:\")\n",
    "print(maxAll)\n",
    "\n",
    "print(\"Min:\")\n",
    "print(minAll)"
   ]
  },
  {
   "cell_type": "code",
   "execution_count": 38,
   "metadata": {},
   "outputs": [
    {
     "name": "stdout",
     "output_type": "stream",
     "text": [
      "     Duration  Pulse  Maxpulse  Calories\n",
      "112        15    124       139     124.2\n",
      "93         15     80       100      50.5\n",
      "135        20    136       156     189.0\n",
      "68         20    106       136     110.4\n",
      "64         20    110       130     131.4\n",
      "..        ...    ...       ...       ...\n",
      "90        180    101       127     600.1\n",
      "109       210    137       184    1860.4\n",
      "60        210    108       160    1376.0\n",
      "79        270    100       131    1729.0\n",
      "69        300    108       143    1500.2\n",
      "\n",
      "[169 rows x 4 columns]\n",
      "     Duration  Pulse  Maxpulse  Calories\n",
      "159        30     80       120     240.9\n",
      "93         15     80       100      50.5\n",
      "89         20     83       107      50.3\n",
      "160        30     85       120     250.4\n",
      "92         30     90       107     105.3\n",
      "..        ...    ...       ...       ...\n",
      "85         30    151       170     300.1\n",
      "95         20    151       168     229.4\n",
      "97         25    152       168     244.2\n",
      "58         20    153       172     226.4\n",
      "80         30    159       182     319.2\n",
      "\n",
      "[169 rows x 4 columns]\n",
      "     Duration  Pulse  Maxpulse  Calories\n",
      "103        90     90       100     500.4\n",
      "93         15     80       100      50.5\n",
      "102        90     90       100     500.0\n",
      "22         60    130       101     300.0\n",
      "88         45    129       103     242.0\n",
      "..        ...    ...       ...       ...\n",
      "58         20    153       172     226.4\n",
      "54         30    136       175     238.0\n",
      "3          45    109       175     282.4\n",
      "80         30    159       182     319.2\n",
      "109       210    137       184    1860.4\n",
      "\n",
      "[169 rows x 4 columns]\n",
      "     Duration  Pulse  Maxpulse  Calories\n",
      "89         20     83       107      50.3\n",
      "93         15     80       100      50.5\n",
      "100        20     95       112      77.7\n",
      "107        30     90       120      86.2\n",
      "104        30     92       108      92.7\n",
      "..        ...    ...       ...       ...\n",
      "17         45     90       112       NaN\n",
      "27         60    103       132       NaN\n",
      "91         45    107       137       NaN\n",
      "118        60    105       125       NaN\n",
      "141        60     97       127       NaN\n",
      "\n",
      "[169 rows x 4 columns]\n"
     ]
    }
   ],
   "source": [
    "# sorted by each index\n",
    "print(gains.sort_values(by=[\"Duration\"]))\n",
    "print(gains.sort_values(by=[\"Pulse\"]))\n",
    "print(gains.sort_values(by=[\"Maxpulse\"]))\n",
    "print(gains.sort_values(by=[\"Calories\"]))"
   ]
  },
  {
   "cell_type": "code",
   "execution_count": 40,
   "metadata": {},
   "outputs": [
    {
     "name": "stdout",
     "output_type": "stream",
     "text": [
      "    Duration Pulse Maxpulse Calories\n",
      "0         60   110      130    409.1\n",
      "1         60   117      145    479.0\n",
      "2         60   103      135    340.0\n",
      "3         45   109      175    282.4\n",
      "4         45   117      148    406.0\n",
      "..       ...   ...      ...      ...\n",
      "166       60   115      145    310.2\n",
      "167       75   120      150    320.4\n",
      "168       75   125      150    330.4\n",
      "170       50   130      145      350\n",
      "171       45   150      160      550\n",
      "\n",
      "[171 rows x 4 columns]\n"
     ]
    }
   ],
   "source": [
    "# creating a smaller dataframa and then merging them\n",
    "merge = pd.DataFrame(\n",
    "    {\n",
    "        \"Duration\": ['50', '45'],\n",
    "        \"Pulse\": ['130', '150'],\n",
    "        \"Maxpulse\": ['145', '160'],\n",
    "        \"Calories\": ['350', '550'],\n",
    "    }, index=[170, 171]\n",
    ")\n",
    "\n",
    "\n",
    "print(pd.concat([gains, merge]))"
   ]
  },
  {
   "cell_type": "code",
   "execution_count": 41,
   "metadata": {},
   "outputs": [
    {
     "name": "stdout",
     "output_type": "stream",
     "text": [
      "[25 55 19 81 50 34 14 53 39 20]\n"
     ]
    }
   ],
   "source": [
    "# numpy random number generator\n",
    "import numpy as np\n",
    "randoms = np.random.default_rng()\n",
    "print(randoms.integers(0, high = 100, size = 10))"
   ]
  },
  {
   "cell_type": "code",
   "execution_count": 43,
   "metadata": {},
   "outputs": [
    {
     "name": "stdout",
     "output_type": "stream",
     "text": [
      "[[[1 2]\n",
      "  [3 4]\n",
      "  [5 6]]\n",
      "\n",
      " [[5 6]\n",
      "  [7 8]\n",
      "  [9 0]]\n",
      "\n",
      " [[2 2]\n",
      "  [3 3]\n",
      "  [4 4]]]\n",
      "shape is \n",
      "(3, 3, 2)\n"
     ]
    }
   ],
   "source": [
    "# 3d array\n",
    "threed = np.array([[[1, 2], [3, 4],[5, 6]], [[5, 6], [7, 8],[9, 0]],[[2, 2], [3, 3],[4, 4]]])\n",
    "print(threed) \n",
    "\n",
    "print(\"shape is \") #see the dimensions\n",
    "print(threed.shape)"
   ]
  },
  {
   "cell_type": "code",
   "execution_count": 44,
   "metadata": {},
   "outputs": [
    {
     "name": "stdout",
     "output_type": "stream",
     "text": [
      "[0.         0.01010101 0.02020202 0.03030303 0.04040404 0.05050505\n",
      " 0.06060606 0.07070707 0.08080808 0.09090909 0.1010101  0.11111111\n",
      " 0.12121212 0.13131313 0.14141414 0.15151515 0.16161616 0.17171717\n",
      " 0.18181818 0.19191919 0.2020202  0.21212121 0.22222222 0.23232323\n",
      " 0.24242424 0.25252525 0.26262626 0.27272727 0.28282828 0.29292929\n",
      " 0.3030303  0.31313131 0.32323232 0.33333333 0.34343434 0.35353535\n",
      " 0.36363636 0.37373737 0.38383838 0.39393939 0.4040404  0.41414141\n",
      " 0.42424242 0.43434343 0.44444444 0.45454545 0.46464646 0.47474747\n",
      " 0.48484848 0.49494949 0.50505051 0.51515152 0.52525253 0.53535354\n",
      " 0.54545455 0.55555556 0.56565657 0.57575758 0.58585859 0.5959596\n",
      " 0.60606061 0.61616162 0.62626263 0.63636364 0.64646465 0.65656566\n",
      " 0.66666667 0.67676768 0.68686869 0.6969697  0.70707071 0.71717172\n",
      " 0.72727273 0.73737374 0.74747475 0.75757576 0.76767677 0.77777778\n",
      " 0.78787879 0.7979798  0.80808081 0.81818182 0.82828283 0.83838384\n",
      " 0.84848485 0.85858586 0.86868687 0.87878788 0.88888889 0.8989899\n",
      " 0.90909091 0.91919192 0.92929293 0.93939394 0.94949495 0.95959596\n",
      " 0.96969697 0.97979798 0.98989899 1.        ]\n"
     ]
    }
   ],
   "source": [
    "# linear spaced array\n",
    "\n",
    "array = np.linspace(0, 1, 100)\n",
    "\n",
    "print(array)"
   ]
  },
  {
   "attachments": {},
   "cell_type": "markdown",
   "metadata": {},
   "source": [
    "# Grading\n",
    "The grading will be binary - all or nothing; no partial credit\n",
    "- 0.3 for all the popcorn hacks\n",
    "- 0.6 for the main hack - CSV file\n",
    "- 0.1 for going above and beyond in the main hack"
   ]
  }
 ],
 "metadata": {
  "kernelspec": {
   "display_name": "base",
   "language": "python",
   "name": "python3"
  },
  "language_info": {
   "codemirror_mode": {
    "name": "ipython",
    "version": 3
   },
   "file_extension": ".py",
   "mimetype": "text/x-python",
   "name": "python",
   "nbconvert_exporter": "python",
   "pygments_lexer": "ipython3",
   "version": "3.9.12"
  },
  "orig_nbformat": 4
 },
 "nbformat": 4,
 "nbformat_minor": 2
}
