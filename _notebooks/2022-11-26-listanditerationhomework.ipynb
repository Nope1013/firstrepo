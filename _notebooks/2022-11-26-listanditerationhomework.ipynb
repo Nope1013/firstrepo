{
 "cells": [
  {
   "cell_type": "markdown",
   "metadata": {},
   "source": [
    "# Lists and Iteration Homework and Challenges\n",
    "> Try to complete this to show understanding! Copy this into your notebook so you can also take notes as we lecture. Make a copy of this notebook to your own repository to take notes, do the class challenges, and to access the homework.\n",
    "- title: Lists and Iteration Homework\n",
    "- toc: true\n",
    "- permalink: /homework/"
   ]
  },
  {
   "cell_type": "markdown",
   "metadata": {},
   "source": [
    "## Overview and Notes:  3.10 - Lists\n",
    "- Make sure you complete the challenge in the challenges section while we present the lesson! \n",
    "\n",
    "Add your <mark>OWN</mark> Notes for 3.10 here: \n",
    "\n",
    "- Indexes are a way to count and organize data\n",
    "- Most start at 0\n",
    "- Collegeboard psuedocode lists start at 1\n",
    "- Numbers and lists work well for loops\n",
    "\n",
    "Fill out the empty boxes: \n",
    "\n",
    "|   Pseudocode Operation  | Python Syntax |                                                           Description                                                          |\n",
    "|:-----------------------:|---------------|:------------------------------------------------------------------------------------------------------------------------------:|\n",
    "|         aList[i]       |       aList[i]        | _Accesses the element of aList at index i_                                                                                     |\n",
    "|       x ← aList[i]      |       x = aList(i)        | _Assigns the element of aList at index i <br>to a variable 'x'_                                                                |\n",
    "|       aList[i] ← x     |      aList(i) = x         | _Assigns the value of a variable 'x' to <br>the element of a List at index i_                                                  |\n",
    "|   aList[i] ← aList[j]   |       aList[i] = aList[j]        | _Assigns value of aList[j] to aList[i]_                                                                                        |\n",
    "| INSERT(aList, i, value) |       aList.insert(i, value)        | _value is placed at index i in aList. Any <br>element at an index greater than i will shift<br>one position to the right. _    |\n",
    "|   APPEND(aList, value)  |      aList.append(value)         | value is added as an element to the end of aList and length of aList is increased by 1                                   |\n",
    "|     REMOVE(aList, i)   |      aList.pop(i)<br>OR<br>aList.remove(value)         | _Removes item at index i and any values at <br>indices greater than i shift to the left. <br>Length of aList decreased by 1. _ |\n"
   ]
  },
  {
   "cell_type": "markdown",
   "metadata": {},
   "source": [
    "## Overview and Notes:  3.8 - Iteration\n",
    "\n",
    "Add your <mark>OWN</mark> Notes for 3.8 here: \n",
    "\n",
    "- Iteration is just repetition\n",
    "- It is repeating a set of actions based on a set of conditions\n",
    "- Loops are necessary to automate functions so that there is no repetitive code\n",
    "- If a loop is not closed, it will keep repeating\n",
    "- For loops, recursive loops, and while loops are all example of iterative loops\n",
    "- They can be used to check the values in a list or automate code\n",
    "- Also nested loops, which are loops within loops\n"
   ]
  },
  {
   "cell_type": "markdown",
   "metadata": {},
   "source": [
    "### Iteration Challenge"
   ]
  },
  {
   "cell_type": "code",
   "execution_count": 15,
   "metadata": {},
   "outputs": [
    {
     "name": "stdout",
     "output_type": "stream",
     "text": [
      "Drew's pets:\n",
      "Dogs: 1\n",
      "Cats: 1\n",
      "Fish: 0\n",
      "\n",
      "AJ's pets:\n",
      "Dogs: 1\n",
      "Cats: 0\n",
      "Fish: 329\n",
      "\n",
      "Johnny's pets:\n",
      "Dogs: 2\n",
      "Cats: 0\n",
      "Fish: 0\n",
      "\n"
     ]
    }
   ],
   "source": [
    "drewpets = [(\"Drew\", ({\"dogs\": 1, \"cats\": 1, \"fish\": 0}))]\n",
    "ajpets = [(\"AJ\", {\"dogs\": 1, \"cats\": 0, \"fish\": 329})]\n",
    "johnnypets = [(\"Johnny\", {\"dogs\": 2, \"cats\": 0, \"fish\": 0})]\n",
    "allpets = [drewpets, ajpets, johnnypets] #a collection of all pet lists\n",
    "\n",
    "for person in allpets:\n",
    "    for name, dict in person: #unpacking the name and dictionary\n",
    "        print(name + \"'s pets:\")\n",
    "        for pet, num in dict.items(): #use .items() to go through keys and values\n",
    "            print(pet.capitalize() + \":\", num) #capitalizes first letter\n",
    "    print(\"\")"
   ]
  },
  {
   "cell_type": "code",
   "execution_count": 16,
   "metadata": {},
   "outputs": [
    {
     "name": "stdout",
     "output_type": "stream",
     "text": [
      "Noor's car:\n",
      "Brand: mazda\n",
      "Model: CX9\n",
      "Color: white\n",
      "\n",
      "Mom's car:\n",
      "Brand: tesla\n",
      "Model: 3\n",
      "Color: white\n",
      "\n",
      "Dad's car:\n",
      "Brand: ford\n",
      "Model: F350\n",
      "Color: brown\n",
      "\n"
     ]
    }
   ],
   "source": [
    "# my model\n",
    "noorcar = [(\"Noor\", ({\"brand\": \"mazda\", \"model\": \"CX9\", \"color\": \"white\"}))]\n",
    "momcar = [(\"Mom\", {\"brand\": \"tesla\", \"model\": 3, \"color\": \"white\"})]\n",
    "dadcar = [(\"Dad\", {\"brand\": \"ford\", \"model\": \"F350\", \"color\": \"brown\"})]\n",
    "allcars = [noorcar, momcar, dadcar] #a dictionary of the cars\n",
    "\n",
    "for person in allcars:\n",
    "    for name, dict in person: #unpacking the name and dictionary\n",
    "        print(name + \"'s car:\")\n",
    "        for car, num in dict.items(): #use .items() to go through keys and values\n",
    "            print(car.capitalize() + \":\", num) #capitalizes first letter\n",
    "    print(\"\")"
   ]
  },
  {
   "cell_type": "markdown",
   "metadata": {},
   "source": [
    "## Homework Assignment\n",
    "\n",
    "Instead of us making a quiz for you to take, we would like YOU to make a quiz about the material we reviewed.\n",
    "\n",
    "We would like you to <mark>input questions into a list</mark>, and use some sort of iterative system to print the questions, detect an input, and determine if you answered correctly. There should be *at least* <mark>five questions</mark>, each with *at least* <mark>three possible answers</mark>.\n",
    "\n",
    "You may use the template below as a framework for this assignment."
   ]
  },
  {
   "cell_type": "code",
   "execution_count": 36,
   "metadata": {},
   "outputs": [
    {
     "name": "stdout",
     "output_type": "stream",
     "text": [
      "This is my homework quiz. Enter the correct letter to earn points.\n"
     ]
    },
    {
     "ename": "TypeError",
     "evalue": "'list' object is not callable",
     "output_type": "error",
     "traceback": [
      "\u001b[0;31m---------------------------------------------------------------------------\u001b[0m",
      "\u001b[0;31mTypeError\u001b[0m                                 Traceback (most recent call last)",
      "\u001b[1;32m/home/nope1013/vscode/firstrepo/_notebooks/2022-11-26-listanditerationhomework.ipynb Cell 8\u001b[0m in \u001b[0;36m<cell line: 55>\u001b[0;34m()\u001b[0m\n\u001b[1;32m     <a href='vscode-notebook-cell://wsl%2Bubuntu/home/nope1013/vscode/firstrepo/_notebooks/2022-11-26-listanditerationhomework.ipynb#W4sdnNjb2RlLXJlbW90ZQ%3D%3D?line=52'>53</a>\u001b[0m correct \u001b[39m=\u001b[39m \u001b[39m0\u001b[39m\n\u001b[1;32m     <a href='vscode-notebook-cell://wsl%2Bubuntu/home/nope1013/vscode/firstrepo/_notebooks/2022-11-26-listanditerationhomework.ipynb#W4sdnNjb2RlLXJlbW90ZQ%3D%3D?line=54'>55</a>\u001b[0m \u001b[39mfor\u001b[39;00m item \u001b[39min\u001b[39;00m quiz:\n\u001b[0;32m---> <a href='vscode-notebook-cell://wsl%2Bubuntu/home/nope1013/vscode/firstrepo/_notebooks/2022-11-26-listanditerationhomework.ipynb#W4sdnNjb2RlLXJlbW90ZQ%3D%3D?line=55'>56</a>\u001b[0m     num \u001b[39m=\u001b[39m question(item, quiz(item)) \u001b[39m# I have been trying to debug this for hours and I keep getting the same error \u001b[39;00m\n\u001b[1;32m     <a href='vscode-notebook-cell://wsl%2Bubuntu/home/nope1013/vscode/firstrepo/_notebooks/2022-11-26-listanditerationhomework.ipynb#W4sdnNjb2RlLXJlbW90ZQ%3D%3D?line=56'>57</a>\u001b[0m     \u001b[39m# theoretically this code should run just fine and I'm not sure why it isn't !!!\u001b[39;00m\n\u001b[1;32m     <a href='vscode-notebook-cell://wsl%2Bubuntu/home/nope1013/vscode/firstrepo/_notebooks/2022-11-26-listanditerationhomework.ipynb#W4sdnNjb2RlLXJlbW90ZQ%3D%3D?line=57'>58</a>\u001b[0m     correct \u001b[39m=\u001b[39m correct \u001b[39m+\u001b[39m num\n",
      "\u001b[0;31mTypeError\u001b[0m: 'list' object is not callable"
     ]
    }
   ],
   "source": [
    "import random\n",
    "print(\"This is my homework quiz. Enter the correct letter to earn points.\")\n",
    "\n",
    "def question(prompt, answer): # automated if else statement from an early lesson\n",
    "    msg = input(\"Question: \" + prompt)\n",
    "    if msg == answer:\n",
    "        print(msg + \" is correct\")\n",
    "        return(1)\n",
    "    else:\n",
    "        print(msg + \" is not the right answer...\")\n",
    "        return(0)\n",
    "\n",
    "quiz = [\n",
    "    (\"What is an index?\",\n",
    "    \"A) A data structure that could store large amounts of data\", \n",
    "    \"B) A way to count and organize data\", \n",
    "    \"C) A loop within a loop\",\n",
    "    \"D) A loop within a loop within a loop\", \n",
    "    \"B\"),\n",
    "    (\"What number do collegeboard psuedocode indexes start at\",\n",
    "    \"A) 0\", \n",
    "    \"B) 1\", \n",
    "    \"C) 40392942\",\n",
    "    \"D) 2\", \n",
    "    \"B\"),\n",
    "    (\"What does the command aList(i) = x do?\",\n",
    "    \"A) Turn everything into x\", \n",
    "    \"B) Assigns the value of 'x' to the element of a list at index i\", \n",
    "    \"C) Removes x and location i\",\n",
    "    \"D) Appends item x to the list\", \n",
    "    \"B\"),\n",
    "    (\"What is iteration?\",\n",
    "    \"A) repetition\", \n",
    "    \"B) indexing\", \n",
    "    \"C) suffering\", \n",
    "    \"D) counting\",\n",
    "    \"A\"),\n",
    "    (\"What is a nested loop?\",\n",
    "    \"A) A group of indexes\", \n",
    "    \"B) When the elements in a loop are in the shape of a nest\", \n",
    "    \"C) A loop within a loop\", \n",
    "    \"D) A bird\",\n",
    "    \"C\"),\n",
    "    (\"What happens if a loop is dead?\",\n",
    "    \"A) It will kill you too\", \n",
    "    \"B) Bad things\", \n",
    "    \"C) The loop does not begin\", \n",
    "    \"D) It will continue to repeat\",\n",
    "    \"D\")\n",
    "]\n",
    "\n",
    "numqs = 8\n",
    "correct = 0\n",
    "\n",
    "for item in quiz:\n",
    "    num = question(item, quiz[item]) # I have been trying to debug this for hours and I keep getting the same error \n",
    "    # theoretically this code should run just fine and I'm not sure why it isn't !!!\n",
    "    correct = correct + num\n",
    "\n",
    "print(\"You scored\" + str(correct) +\"/\" + str(numqs))\n",
    "print(\"Your percentage is \" + str(correct/numqs*100) + \"%\")\n",
    "if (correct >= 6):\n",
    "    print(\"W (you passed)\")\n",
    "else:\n",
    "    print(\"L (you failed)\")"
   ]
  },
  {
   "cell_type": "markdown",
   "metadata": {},
   "source": [
    "### Hacks\n",
    "\n",
    "Here are some ideas of things you can do to make your program even cooler. Doing these will raise your grade if done correctly.\n",
    "\n",
    "- Add more than five questions with more than three answer choices\n",
    "- Randomize the order in which questions/answers are output\n",
    "- At the end, display the user's score and determine whether or not they passed\n",
    "\n",
    "## Challenges\n",
    "\n",
    "<mark>Important!</mark> You don't have to complete these challenges completely perfectly, but you will be marked down if you don't show evidence of at least having tried these challenges in the time we gave during the lesson.\n",
    "\n",
    "### 3.10 Challenge\n",
    "\n",
    "Follow the instructions in the code comments."
   ]
  },
  {
   "cell_type": "code",
   "execution_count": 17,
   "metadata": {},
   "outputs": [
    {
     "name": "stdout",
     "output_type": "stream",
     "text": [
      "cucumbers\n",
      "cucumbers\n",
      "artichokes\n",
      "['apples', 'eggs', 'artichokes', 'carrots', 'cucumbers', 'umbrellas', 'artichokes']\n"
     ]
    }
   ],
   "source": [
    "grocery_list = ['apples', 'milk', 'oranges', 'carrots', 'cucumbers']\n",
    "\n",
    "# Print the fourth item in the list\n",
    "\n",
    "print(grocery_list[4])\n",
    "\n",
    "\n",
    "# Now, assign the fourth item in the list to a variable, x and then print the variable\n",
    "\n",
    "x = grocery_list[4]\n",
    "print(x)\n",
    "\n",
    "# Add these two items at the end of the list : umbrellas and artichokes\n",
    "\n",
    "grocery_list.append(\"umbrellas\")\n",
    "grocery_list.append(\"artichokes\")\n",
    "\n",
    "# Insert the item eggs as the third item of the list \n",
    "\n",
    "grocery_list.insert(1, \"eggs\")\n",
    "\n",
    "# Remove milk from the list \n",
    "\n",
    "grocery_list.remove(\"milk\")\n",
    "\n",
    "# Assign the element at the end of the list to index 2. Print index 2 to check\n",
    "\n",
    "grocery_list[2] = \"artichokes\"\n",
    "print(grocery_list[2])\n",
    "\n",
    "# Print the entire list, does it match ours ? \n",
    "\n",
    "print(grocery_list)\n",
    "\n",
    "# Expected output\n",
    "# cucumbers\n",
    "# cucumbers\n",
    "# artichokes\n",
    "# ['apples', 'eggs', 'artichokes', 'carrots', 'cucumbers', 'umbrellas', 'artichokes']"
   ]
  },
  {
   "cell_type": "markdown",
   "metadata": {},
   "source": [
    "### 3.8 Challenge\n",
    "\n",
    "Create a loop that <mark>converts 8-bit binary values</mark> from the provided list into <mark>decimal numbers</mark>. Then, after the value is determined, <mark>remove all the values greater than 100</mark> from the list using a list-related function you've been taught before. <mark>Print the new list</mark> when done.\n",
    "\n",
    "Once you've done this with one of the types of loops discussed in this lesson, create a function that does the same thing with a *different* type of loop."
   ]
  },
  {
   "cell_type": "code",
   "execution_count": 8,
   "metadata": {},
   "outputs": [
    {
     "name": "stdout",
     "output_type": "stream",
     "text": [
      "73\n",
      "55\n"
     ]
    }
   ],
   "source": [
    "binarylist = [\"01001001\", \"10101010\", \"10010110\", \"00110111\", \"11101100\", \"11010001\", \"10000001\"]\n",
    "\n",
    "final_list = []\n",
    "\n",
    "def binary_convert(x):\n",
    "    return(int(x,2))\n",
    "    #use this function to convert every binary value in binarylist to decimal\n",
    "    #afterward, get rid of the values that are greater than 100 in decimal\n",
    "for n in binarylist:\n",
    "    if binary_convert(n) <= 100: # identifying the numbers in the list that are greater than or equal to 100 so that they remain in the list\n",
    "        final_list.append(n) # adding those values\n",
    "        print(binary_convert(n)) # prints the values, discluding those larger than 100"
   ]
  }
 ],
 "metadata": {
  "kernelspec": {
   "display_name": "Python 3.8.10 64-bit",
   "language": "python",
   "name": "python3"
  },
  "language_info": {
   "codemirror_mode": {
    "name": "ipython",
    "version": 3
   },
   "file_extension": ".py",
   "mimetype": "text/x-python",
   "name": "python",
   "nbconvert_exporter": "python",
   "pygments_lexer": "ipython3",
   "version": "3.8.10"
  },
  "orig_nbformat": 4,
  "vscode": {
   "interpreter": {
    "hash": "916dbcbb3f70747c44a77c7bcd40155683ae19c65e1c03b4aa3499c5328201f1"
   }
  }
 },
 "nbformat": 4,
 "nbformat_minor": 2
}
