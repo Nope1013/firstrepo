{
 "cells": [
  {
   "cell_type": "markdown",
   "metadata": {},
   "source": [
    "# Lists and Iteration Homework and Challenges\n",
    "> Try to complete this to show understanding! Copy this into your notebook so you can also take notes as we lecture. Make a copy of this notebook to your own repository to take notes, do the class challenges, and to access the homework.\n",
    "- title: Lists and Iteration Homework\n",
    "- toc: true\n",
    "- permalink: /homework/"
   ]
  },
  {
   "cell_type": "markdown",
   "metadata": {},
   "source": [
    "## Overview and Notes:  3.10 - Lists\n",
    "- Make sure you complete the challenge in the challenges section while we present the lesson! \n",
    "\n",
    "Add your <mark>OWN</mark> Notes for 3.10 here: \n",
    "\n",
    "- Indexes are a way to count and organize data\n",
    "- Most start at 0\n",
    "- Collegeboard psuedocode lists start at 1\n",
    "- Numbers and lists work well for loops\n",
    "\n",
    "Fill out the empty boxes: \n",
    "\n",
    "|   Pseudocode Operation  | Python Syntax |                                                           Description                                                          |\n",
    "|:-----------------------:|---------------|:------------------------------------------------------------------------------------------------------------------------------:|\n",
    "|         aList[i]       |       aList[i]        | _Accesses the element of aList at index i_                                                                                     |\n",
    "|       x ← aList[i]      |       x = aList(i)        | _Assigns the element of aList at index i <br>to a variable 'x'_                                                                |\n",
    "|       aList[i] ← x     |      aList(i) = x         | _Assigns the value of a variable 'x' to <br>the element of a List at index i_                                                  |\n",
    "|   aList[i] ← aList[j]   |       aList[i] = aList[j]        | _Assigns value of aList[j] to aList[i]_                                                                                        |\n",
    "| INSERT(aList, i, value) |       aList.insert(i, value)        | _value is placed at index i in aList. Any <br>element at an index greater than i will shift<br>one position to the right. _    |\n",
    "|   APPEND(aList, value)  |      aList.append(value)         | value is added as an element to the end of aList and length of aList is increased by 1                                   |\n",
    "|     REMOVE(aList, i)   |      aList.pop(i)<br>OR<br>aList.remove(value)         | _Removes item at index i and any values at <br>indices greater than i shift to the left. <br>Length of aList decreased by 1. _ |\n"
   ]
  },
  {
   "cell_type": "markdown",
   "metadata": {},
   "source": [
    "## Overview and Notes:  3.8 - Iteration\n",
    "\n",
    "Add your <mark>OWN</mark> Notes for 3.8 here: \n",
    "\n",
    "\n"
   ]
  },
  {
   "cell_type": "markdown",
   "metadata": {},
   "source": [
    "## Homework Assignment\n",
    "\n",
    "Instead of us making a quiz for you to take, we would like YOU to make a quiz about the material we reviewed.\n",
    "\n",
    "We would like you to <mark>input questions into a list</mark>, and use some sort of iterative system to print the questions, detect an input, and determine if you answered correctly. There should be *at least* <mark>five questions</mark>, each with *at least* <mark>three possible answers</mark>.\n",
    "\n",
    "You may use the template below as a framework for this assignment."
   ]
  },
  {
   "cell_type": "code",
   "execution_count": null,
   "metadata": {},
   "outputs": [],
   "source": [
    "questions = [\n",
    "    #questions go here (remember to make them strings!)\n",
    "]\n",
    "\n",
    "def questionloop():\n",
    "    pass\n",
    "    #make an iterative function to ask the questions\n",
    "    #this can be any loop you want as long as it works!\n",
    "\n",
    "def answercheck():\n",
    "    pass\n",
    "    #make a function to check if the answer was correct or not"
   ]
  },
  {
   "cell_type": "markdown",
   "metadata": {},
   "source": [
    "### Iteration Challenge"
   ]
  },
  {
   "cell_type": "code",
   "execution_count": 18,
   "metadata": {},
   "outputs": [
    {
     "name": "stdout",
     "output_type": "stream",
     "text": [
      "Drew's pets:\n",
      "Dogs: 1\n",
      "Cats: 1\n",
      "Fish: 0\n",
      "\n",
      "AJ's pets:\n",
      "Dogs: 1\n",
      "Cats: 0\n",
      "Fish: 329\n",
      "\n",
      "Johnny's pets:\n",
      "Dogs: 2\n",
      "Cats: 0\n",
      "Fish: 0\n",
      "\n"
     ]
    }
   ],
   "source": [
    "drewpets = [(\"Drew\", ({\"dogs\": 1, \"cats\": 1, \"fish\": 0}))]\n",
    "ajpets = [(\"AJ\", {\"dogs\": 1, \"cats\": 0, \"fish\": 329})]\n",
    "johnnypets = [(\"Johnny\", {\"dogs\": 2, \"cats\": 0, \"fish\": 0})]\n",
    "allpets = [drewpets, ajpets, johnnypets] #a collection of all pet lists\n",
    "\n",
    "for person in allpets:\n",
    "    for name, dict in person: #unpacking the name and dictionary\n",
    "        print(name + \"'s pets:\")\n",
    "        for pet, num in dict.items(): #use .items() to go through keys and values\n",
    "            print(pet.capitalize() + \":\", num) #capitalizes first letter\n",
    "    print(\"\")"
   ]
  },
  {
   "cell_type": "markdown",
   "metadata": {},
   "source": [
    "### Hacks\n",
    "\n",
    "Here are some ideas of things you can do to make your program even cooler. Doing these will raise your grade if done correctly.\n",
    "\n",
    "- Add more than five questions with more than three answer choices\n",
    "- Randomize the order in which questions/answers are output\n",
    "- At the end, display the user's score and determine whether or not they passed\n",
    "\n",
    "## Challenges\n",
    "\n",
    "<mark>Important!</mark> You don't have to complete these challenges completely perfectly, but you will be marked down if you don't show evidence of at least having tried these challenges in the time we gave during the lesson.\n",
    "\n",
    "### 3.10 Challenge\n",
    "\n",
    "Follow the instructions in the code comments."
   ]
  },
  {
   "cell_type": "code",
   "execution_count": 17,
   "metadata": {},
   "outputs": [
    {
     "name": "stdout",
     "output_type": "stream",
     "text": [
      "cucumbers\n",
      "cucumbers\n",
      "artichokes\n",
      "['apples', 'eggs', 'artichokes', 'carrots', 'cucumbers', 'umbrellas', 'artichokes']\n"
     ]
    }
   ],
   "source": [
    "grocery_list = ['apples', 'milk', 'oranges', 'carrots', 'cucumbers']\n",
    "\n",
    "# Print the fourth item in the list\n",
    "\n",
    "print(grocery_list[4])\n",
    "\n",
    "\n",
    "# Now, assign the fourth item in the list to a variable, x and then print the variable\n",
    "\n",
    "x = grocery_list[4]\n",
    "print(x)\n",
    "\n",
    "# Add these two items at the end of the list : umbrellas and artichokes\n",
    "\n",
    "grocery_list.append(\"umbrellas\")\n",
    "grocery_list.append(\"artichokes\")\n",
    "\n",
    "# Insert the item eggs as the third item of the list \n",
    "\n",
    "grocery_list.insert(1, \"eggs\")\n",
    "\n",
    "# Remove milk from the list \n",
    "\n",
    "grocery_list.remove(\"milk\")\n",
    "\n",
    "# Assign the element at the end of the list to index 2. Print index 2 to check\n",
    "\n",
    "grocery_list[2] = \"artichokes\"\n",
    "print(grocery_list[2])\n",
    "\n",
    "# Print the entire list, does it match ours ? \n",
    "\n",
    "print(grocery_list)\n",
    "\n",
    "# Expected output\n",
    "# cucumbers\n",
    "# cucumbers\n",
    "# artichokes\n",
    "# ['apples', 'eggs', 'artichokes', 'carrots', 'cucumbers', 'umbrellas', 'artichokes']"
   ]
  },
  {
   "cell_type": "markdown",
   "metadata": {},
   "source": [
    "### 3.8 Challenge\n",
    "\n",
    "Create a loop that <mark>converts 8-bit binary values</mark> from the provided list into <mark>decimal numbers</mark>. Then, after the value is determined, <mark>remove all the values greater than 100</mark> from the list using a list-related function you've been taught before. <mark>Print the new list</mark> when done.\n",
    "\n",
    "Once you've done this with one of the types of loops discussed in this lesson, create a function that does the same thing with a *different* type of loop."
   ]
  },
  {
   "cell_type": "code",
   "execution_count": null,
   "metadata": {},
   "outputs": [],
   "source": [
    "binarylist = [\n",
    "    \"01001001\", \"10101010\", \"10010110\", \"00110111\", \"11101100\", \"11010001\", \"10000001\"\n",
    "]\n",
    "\n",
    "def binary_convert(binary):\n",
    "    pass\n",
    "    #use this function to convert every binary value in binarylist to decimal\n",
    "    #afterward, get rid of the values that are greater than 100 in decimal\n",
    "\n",
    "#when done, print the results"
   ]
  }
 ],
 "metadata": {
  "kernelspec": {
   "display_name": "Python 3.8.10 64-bit",
   "language": "python",
   "name": "python3"
  },
  "language_info": {
   "codemirror_mode": {
    "name": "ipython",
    "version": 3
   },
   "file_extension": ".py",
   "mimetype": "text/x-python",
   "name": "python",
   "nbconvert_exporter": "python",
   "pygments_lexer": "ipython3",
   "version": "3.8.10"
  },
  "orig_nbformat": 4,
  "vscode": {
   "interpreter": {
    "hash": "916dbcbb3f70747c44a77c7bcd40155683ae19c65e1c03b4aa3499c5328201f1"
   }
  }
 },
 "nbformat": 4,
 "nbformat_minor": 2
}
