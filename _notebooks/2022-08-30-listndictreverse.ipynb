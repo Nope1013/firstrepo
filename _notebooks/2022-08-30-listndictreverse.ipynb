{
 "cells": [
  {
   "cell_type": "markdown",
   "metadata": {},
   "source": [
    "# Reversing Lists and Dictionaries"
   ]
  },
  {
   "cell_type": "markdown",
   "metadata": {},
   "source": [
    "---\n",
    "toc: true\n",
    "layout: post\n",
    "categories: [weeks]\n",
    "title:  Week 2 - HTML Fragments\n",
    "---"
   ]
  },
  {
   "cell_type": "code",
   "execution_count": 5,
   "metadata": {},
   "outputs": [
    {
     "name": "stdout",
     "output_type": "stream",
     "text": [
      "Reversed List: [{'FirstName': 'Sanika', 'LastName': 'Shahapurkar', 'DOB': 'September 29', 'Residence': 'Del Sur', 'Email': 'sanika.shahapurkar@gmail.com', 'Car': '2018-BMW 430i', 'Owns Dogs': ['Striver'], 'Owns Cats': ['none:('], 'Favorite Songs': ['Someone New - Hozier', 'Marvelous - Wallows', 'Saggitarius Superstar - Coin & Faye Webster']}, {'FirstName': 'Noor', 'LastName': 'Grewal', 'DOB': 'October 27', 'Residence': '4S Ranch', 'Email': 'noorkg05@gmail.com', 'Car': '2012-Mazda CX9', 'Owns Dogs': ['Luna', 'Kahlua', 'Daisy'], 'Owns Cats': ['Merlot', 'Smeagol'], 'Favorite Songs': ['Wasting Love - Iron Maiden', 'Tear - The Smashing Pumpkins', 'Everlong - Foo Fighters']}]\n",
      "[{'FirstName': 'Sanika', 'LastName': 'Shahapurkar', 'DOB': 'September 29', 'Residence': 'Del Sur', 'Email': 'sanika.shahapurkar@gmail.com', 'Car': '2018-BMW 430i', 'Owns Dogs': ['Striver'], 'Owns Cats': ['none:('], 'Favorite Songs': ['Someone New - Hozier', 'Marvelous - Wallows', 'Saggitarius Superstar - Coin & Faye Webster']}, {'FirstName': 'Noor', 'LastName': 'Grewal', 'DOB': 'October 27', 'Residence': '4S Ranch', 'Email': 'noorkg05@gmail.com', 'Car': '2012-Mazda CX9', 'Owns Dogs': ['Luna', 'Kahlua', 'Daisy'], 'Owns Cats': ['Merlot', 'Smeagol'], 'Favorite Songs': ['Wasting Love - Iron Maiden', 'Tear - The Smashing Pumpkins', 'Everlong - Foo Fighters']}]\n"
     ]
    }
   ],
   "source": [
    "# Define an empty List called InfoDb\n",
    "InfoDb = []\n",
    "\n",
    "# Append to List a Dictionary of key/values\n",
    "InfoDb.append({\n",
    "    \"FirstName\": \"Noor\",\n",
    "    \"LastName\": \"Grewal\",\n",
    "    \"DOB\": \"October 27\",\n",
    "    \"Residence\": \"4S Ranch\",\n",
    "    \"Email\": \"noorkg05@gmail.com\",\n",
    "    \"Car\": \"2012-Mazda CX9\",\n",
    "    \"Owns Dogs\": [\"Luna\", \"Kahlua\", \"Daisy\"],\n",
    "    \"Owns Cats\": [\"Merlot\", \"Smeagol\"],\n",
    "    \"Favorite Songs\": [\"Wasting Love - Iron Maiden\", \"Tear - The Smashing Pumpkins\", \"Everlong - Foo Fighters\"]\n",
    "})\n",
    "\n",
    "# Append to List a 2nd Dictionary of key/values\n",
    "InfoDb.append({\n",
    "    \"FirstName\": \"Sanika\",\n",
    "    \"LastName\": \"Shahapurkar\",\n",
    "    \"DOB\": \"September 29\",\n",
    "    \"Residence\": \"Del Sur\",\n",
    "    \"Email\": \"sanika.shahapurkar@gmail.com\",\n",
    "    \"Car\": \"2018-BMW 430i\",\n",
    "    \"Owns Dogs\": [\"Striver\"],\n",
    "    \"Owns Cats\": [\"none:(\"],\n",
    "    \"Favorite Songs\": [\"Someone New - Hozier\", \"Marvelous - Wallows\", \"Saggitarius Superstar - Coin & Faye Webster\"]\n",
    "})\n",
    "\n",
    "InfoDb.reverse()\n",
    "\n",
    "print('Reversed List:', InfoDb)\n",
    "\n",
    "# Print the data structure\n",
    "print(InfoDb)"
   ]
  },
  {
   "cell_type": "code",
   "execution_count": 6,
   "metadata": {},
   "outputs": [
    {
     "name": "stdout",
     "output_type": "stream",
     "text": [
      "Reversed List: <function print_data at 0x7f2be8159c10>\n",
      "For loop output\n",
      "\n",
      "Sanika Shahapurkar\n",
      "\t Residence: Del Sur\n",
      "\t Birthday: September 29\n",
      "\t Dogs: Striver\n",
      "\t Cats: none:(\n",
      "\t Favorite Songs: ['Someone New - Hozier', 'Marvelous - Wallows', 'Saggitarius Superstar - Coin & Faye Webster']\n",
      "Noor Grewal\n",
      "\t Residence: 4S Ranch\n",
      "\t Birthday: October 27\n",
      "\t Dogs: Luna, Kahlua, Daisy\n",
      "\t Cats: Merlot, Smeagol\n",
      "\t Favorite Songs: ['Wasting Love - Iron Maiden', 'Tear - The Smashing Pumpkins', 'Everlong - Foo Fighters']\n"
     ]
    }
   ],
   "source": [
    "# given and index this will print InfoDb content\n",
    "def print_data(d_rec):\n",
    "    print(d_rec[\"FirstName\"], d_rec[\"LastName\"])  \n",
    "    print(\"\\t\", \"Residence:\", d_rec[\"Residence\"]) \n",
    "    print(\"\\t\", \"Birthday:\", d_rec[\"DOB\"])\n",
    "    print(\"\\t\", \"Dogs: \", end=\"\")\n",
    "    print(\", \".join(d_rec[\"Owns Dogs\"])) \n",
    "    print(\"\\t\", \"Cats: \", end=\"\")\n",
    "    print(\", \".join(d_rec[\"Owns Cats\"]))\n",
    "    print(\"\\t\", \"Favorite Songs:\", d_rec[\"Favorite Songs\"])\n",
    "\n",
    "\n",
    "# for loop iterates on length of InfoDb\n",
    "def for_loop():\n",
    "    print(\"For loop output\\n\")\n",
    "    for record in InfoDb:\n",
    "        print_data(record)\n",
    "\n",
    "\n",
    "print('Reversed List:', print_data)\n",
    "\n",
    "for_loop()"
   ]
  }
 ],
 "metadata": {
  "kernelspec": {
   "display_name": "Python 3.8.10 64-bit",
   "language": "python",
   "name": "python3"
  },
  "language_info": {
   "codemirror_mode": {
    "name": "ipython",
    "version": 3
   },
   "file_extension": ".py",
   "mimetype": "text/x-python",
   "name": "python",
   "nbconvert_exporter": "python",
   "pygments_lexer": "ipython3",
   "version": "3.8.10"
  },
  "orig_nbformat": 4,
  "vscode": {
   "interpreter": {
    "hash": "916dbcbb3f70747c44a77c7bcd40155683ae19c65e1c03b4aa3499c5328201f1"
   }
  }
 },
 "nbformat": 4,
 "nbformat_minor": 2
}
