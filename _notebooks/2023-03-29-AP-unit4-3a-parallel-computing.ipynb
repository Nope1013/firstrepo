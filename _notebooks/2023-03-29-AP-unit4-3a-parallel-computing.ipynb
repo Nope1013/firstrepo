{
 "cells": [
  {
   "attachments": {},
   "cell_type": "markdown",
   "metadata": {},
   "source": [
    "#  Unit 4.3a Parallel Computing\n",
    "> Observe an algorithm using parallel computing in Python Code.  Monitor processes on host.\n",
    "- toc: true\n",
    "- categories: [ap prep]"
   ]
  },
  {
   "attachments": {},
   "cell_type": "markdown",
   "metadata": {},
   "source": [
    "## Analyzing Parallel Computing\n",
    "> Once again we will use image lab, this time to review Parallel Computing.\n",
    "- Change baseWidth in this line in code to increase computation requirements: ```def process_image(image, baseWidth=512):```  For instance 320, 512, 1024, 2048, 4096.\n",
    "- Compare Sequential and Parallel computing code and time to achieve outputs"
   ]
  },
  {
   "cell_type": "code",
   "execution_count": 3,
   "metadata": {},
   "outputs": [],
   "source": [
    "from IPython.display import HTML, display\n",
    "from pathlib import Path  # https://medium.com/@ageitgey/python-3-quick-tip-the-easy-way-to-deal-with-file-paths-on-windows-mac-and-linux-11a072b58d5f\n",
    "from PIL import Image as pilImage # as PIL Image is used to avoid conflicts\n",
    "from io import BytesIO\n",
    "import base64\n",
    "import numpy as np\n",
    "\n",
    "\n",
    "# prepares a series of images\n",
    "def image_data(path=Path(\"images/\"), images=None):  # path of static images is defaulted\n",
    "    if images is None:  # default image\n",
    "        images = [\n",
    "            {'source': \"Internet\", 'label': \"Green Square\", 'file': \"green-square-16.png\"},\n",
    "            {'source': \"Peter Carolin\", 'label': \"Clouds Impression\", 'file': \"clouds-impression.png\"},\n",
    "            {'source': \"Peter Carolin\", 'label': \"Lassen Volcano\", 'file': \"lassen-volcano.jpg\"}\n",
    "        ]\n",
    "    for image in images:\n",
    "        # File to open\n",
    "        image['filename'] = path / image['file']  # file with path\n",
    "    return images\n",
    "\n",
    "# Scale to baseWidth\n",
    "def scale_image(img, baseWidth):\n",
    "    scalePercent = (baseWidth/float(img.size[0]))\n",
    "    scaleHeight = int((float(img.size[1])*float(scalePercent)))\n",
    "    scale = (baseWidth, scaleHeight)\n",
    "    return img.resize(scale)\n",
    "\n",
    "# PIL image converted to base64\n",
    "def image_to_base64(img, format):\n",
    "    with BytesIO() as buffer:\n",
    "        img.save(buffer, format)\n",
    "        return base64.b64encode(buffer.getvalue()).decode()\n",
    "    \n",
    "# Convert pixels to Grey Scale\n",
    "def grey_pixel(pixel):\n",
    "    average = (pixel[0] + pixel[1] + pixel[2]) // 3  # average pixel values and use // for integer division\n",
    "    if len(pixel) > 3:\n",
    "        return( (average, average, average, pixel[3]) ) # PNG format\n",
    "    else:\n",
    "        return( (average, average, average) )\n",
    "    \n",
    "# Convert pixels to Red Scale\n",
    "def red_pixel(pixel):\n",
    "    if len(pixel) > 3:\n",
    "        return( (pixel[0], 0, 0, pixel[3]) ) # PNG format\n",
    "    else:\n",
    "        return( (pixel[0], 0, 0) )\n",
    "    \n",
    "# Convert pixels to Red Scale\n",
    "def green_pixel(pixel):\n",
    "    if len(pixel) > 3:\n",
    "        return( (0, pixel[1], 0, pixel[3]) ) # PNG format\n",
    "    else:\n",
    "        return( (0, pixel[1], 0) )\n",
    "    \n",
    "# Convert pixels to Red Scale\n",
    "def blue_pixel(pixel):\n",
    "    if len(pixel) > 3:\n",
    "        return( (0, 0, pixel[2], pixel[3]) ) # PNG format\n",
    "    else:\n",
    "        return( (0, 0, pixel[2]) )\n",
    "        \n",
    "# Set Properties of Image, Scale, and convert to Base64\n",
    "def image_management(image, baseWidth):  # path of static images is defaulted        \n",
    "    # Image open return PIL image object\n",
    "    img = pilImage.open(image['filename'])\n",
    "    \n",
    "    # Python Image Library operations\n",
    "    image['format'] = img.format\n",
    "    image['mode'] = img.mode\n",
    "    image['size'] = img.size\n",
    "    # Scale the Image\n",
    "    img = scale_image(img, baseWidth)\n",
    "    image['pil'] = img\n",
    "    image['scaled_size'] = img.size\n",
    "    image['numpy'] = np.array(img.getdata())\n",
    "    # Scaled HTML\n",
    "    image['html'] = '<img src=\"data:image/png;base64,%s\">' % image_to_base64(image['pil'], image['format'])\n",
    "    \n",
    "    # Grey HTML\n",
    "    # each pixel in numpy array is turned to grey \n",
    "    # then resulting list, using List Comprehension, is put back into img    \n",
    "    img.putdata([grey_pixel(pixel) for pixel in image['numpy']])\n",
    "    image['html_grey'] =  '<img src=\"data:image/png;base64,%s\">' % image_to_base64(img, image['format'])\n",
    "    \n",
    "    # Red HTML\n",
    "    img.putdata([red_pixel(pixel) for pixel in image['numpy']])\n",
    "    image['html_red'] =  '<img src=\"data:image/png;base64,%s\">' % image_to_base64(img, image['format'])\n",
    "    \n",
    "    # Green HTML\n",
    "    img.putdata([green_pixel(pixel) for pixel in image['numpy']])\n",
    "    image['html_green'] =  '<img src=\"data:image/png;base64,%s\">' % image_to_base64(img, image['format'])\n",
    "    \n",
    "    # Blue HTML\n",
    "    img.putdata([blue_pixel(pixel) for pixel in image['numpy']])\n",
    "    image['html_blue'] =  '<img src=\"data:image/png;base64,%s\">' % image_to_base64(img, image['format'])\n",
    "    \n",
    "    \n",
    "def process_image(image, baseWidth=10):\n",
    "    image_management(image, baseWidth)\n",
    "    print(\"---- meta data -----\")\n",
    "    print(image['label'])\n",
    "    print(image['source'])\n",
    "    print(image['format'])\n",
    "    print(image['mode'])\n",
    "    print(\"Original size: \", image['size'])\n",
    "    print(\"Scaled size: \", image['scaled_size'])\n",
    "    \n",
    "    print(\"-- images --\")\n",
    "    display(HTML(image['html'])) \n",
    "    display(HTML(image['html_grey'])) \n",
    "    display(HTML(image['html_red'])) \n",
    "    display(HTML(image['html_green'])) \n",
    "    display(HTML(image['html_blue'])) \n"
   ]
  },
  {
   "attachments": {},
   "cell_type": "markdown",
   "metadata": {},
   "source": [
    "## Sequential Processing \n",
    "> The for loop iterates over the list of images and processes them one at a time, in order."
   ]
  },
  {
   "cell_type": "code",
   "execution_count": 4,
   "metadata": {},
   "outputs": [
    {
     "name": "stdout",
     "output_type": "stream",
     "text": [
      "---- meta data -----\n",
      "Green Square\n",
      "Internet\n",
      "PNG\n",
      "RGBA\n",
      "Original size:  (16, 16)\n",
      "Scaled size:  (10, 10)\n",
      "-- images --\n"
     ]
    },
    {
     "data": {
      "text/html": [
       "<img src=\"data:image/png;base64,iVBORw0KGgoAAAANSUhEUgAAAAoAAAAKCAYAAACNMs+9AAAAO0lEQVR4nGNk+M/wiYGBgYMBAf5jYf9mgSpiZcAPmJgIKECoJEXhf4KqSDWR+gqJciMLAwPDbyJM/g0AGS4JDyp4vBcAAAAASUVORK5CYII=\">"
      ],
      "text/plain": [
       "<IPython.core.display.HTML object>"
      ]
     },
     "metadata": {},
     "output_type": "display_data"
    },
    {
     "data": {
      "text/html": [
       "<img src=\"data:image/png;base64,iVBORw0KGgoAAAANSUhEUgAAAAoAAAAKCAYAAACNMs+9AAAAO0lEQVR4nGMMDQ39xMDAwMGAAP+xsH+zQBWxMuAHTEwEFCBUkqLwP0FVpJpIfYVEuZGFgYHhNxEm/wYAGS4JD3NfWUgAAAAASUVORK5CYII=\">"
      ],
      "text/plain": [
       "<IPython.core.display.HTML object>"
      ]
     },
     "metadata": {},
     "output_type": "display_data"
    },
    {
     "data": {
      "text/html": [
       "<img src=\"data:image/png;base64,iVBORw0KGgoAAAANSUhEUgAAAAoAAAAKCAYAAACNMs+9AAAAO0lEQVR4nGNkYGD4xMDAwMGAAP+xsH+zQBWxMuAHTEwEFCBUkqLwP0FVpJpIfYVEuZGFgYHhNxEm/wYAgqgIEJY3cbUAAAAASUVORK5CYII=\">"
      ],
      "text/plain": [
       "<IPython.core.display.HTML object>"
      ]
     },
     "metadata": {},
     "output_type": "display_data"
    },
    {
     "data": {
      "text/html": [
       "<img src=\"data:image/png;base64,iVBORw0KGgoAAAANSUhEUgAAAAoAAAAKCAYAAACNMs+9AAAAO0lEQVR4nGNk+M/wiYGBgYMBAf5jYf9mgSpiZcAPmJgIKECoJEXhf4KqSDWR+gqJciMLAwPDbyJM/g0AGS4JDyp4vBcAAAAASUVORK5CYII=\">"
      ],
      "text/plain": [
       "<IPython.core.display.HTML object>"
      ]
     },
     "metadata": {},
     "output_type": "display_data"
    },
    {
     "data": {
      "text/html": [
       "<img src=\"data:image/png;base64,iVBORw0KGgoAAAANSUhEUgAAAAoAAAAKCAYAAACNMs+9AAAAO0lEQVR4nGNkYGD4xMDAwMGAAP+xsH+zQBWxMuAHTEwEFCBUkqLwP0FVpJpIfYVEuZGFgYHhNxEm/wYAgqgIEJY3cbUAAAAASUVORK5CYII=\">"
      ],
      "text/plain": [
       "<IPython.core.display.HTML object>"
      ]
     },
     "metadata": {},
     "output_type": "display_data"
    },
    {
     "name": "stdout",
     "output_type": "stream",
     "text": [
      "---- meta data -----\n",
      "Clouds Impression\n",
      "Peter Carolin\n",
      "PNG\n",
      "RGBA\n",
      "Original size:  (320, 234)\n",
      "Scaled size:  (10, 7)\n",
      "-- images --\n"
     ]
    },
    {
     "data": {
      "text/html": [
       "<img src=\"data:image/png;base64,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\">"
      ],
      "text/plain": [
       "<IPython.core.display.HTML object>"
      ]
     },
     "metadata": {},
     "output_type": "display_data"
    },
    {
     "data": {
      "text/html": [
       "<img src=\"data:image/png;base64,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\">"
      ],
      "text/plain": [
       "<IPython.core.display.HTML object>"
      ]
     },
     "metadata": {},
     "output_type": "display_data"
    },
    {
     "data": {
      "text/html": [
       "<img src=\"data:image/png;base64,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\">"
      ],
      "text/plain": [
       "<IPython.core.display.HTML object>"
      ]
     },
     "metadata": {},
     "output_type": "display_data"
    },
    {
     "data": {
      "text/html": [
       "<img src=\"data:image/png;base64,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\">"
      ],
      "text/plain": [
       "<IPython.core.display.HTML object>"
      ]
     },
     "metadata": {},
     "output_type": "display_data"
    },
    {
     "data": {
      "text/html": [
       "<img src=\"data:image/png;base64,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\">"
      ],
      "text/plain": [
       "<IPython.core.display.HTML object>"
      ]
     },
     "metadata": {},
     "output_type": "display_data"
    },
    {
     "name": "stdout",
     "output_type": "stream",
     "text": [
      "---- meta data -----\n",
      "Lassen Volcano\n",
      "Peter Carolin\n",
      "JPEG\n",
      "RGB\n",
      "Original size:  (2792, 2094)\n",
      "Scaled size:  (10, 7)\n",
      "-- images --\n"
     ]
    },
    {
     "data": {
      "text/html": [
       "<img src=\"data:image/png;base64,/9j/4AAQSkZJRgABAQAAAQABAAD/2wBDAAgGBgcGBQgHBwcJCQgKDBQNDAsLDBkSEw8UHRofHh0aHBwgJC4nICIsIxwcKDcpLDAxNDQ0Hyc5PTgyPC4zNDL/2wBDAQgJCQwLDBgNDRgyIRwhMjIyMjIyMjIyMjIyMjIyMjIyMjIyMjIyMjIyMjIyMjIyMjIyMjIyMjIyMjIyMjIyMjL/wAARCAAHAAoDASIAAhEBAxEB/8QAHwAAAQUBAQEBAQEAAAAAAAAAAAECAwQFBgcICQoL/8QAtRAAAgEDAwIEAwUFBAQAAAF9AQIDAAQRBRIhMUEGE1FhByJxFDKBkaEII0KxwRVS0fAkM2JyggkKFhcYGRolJicoKSo0NTY3ODk6Q0RFRkdISUpTVFVWV1hZWmNkZWZnaGlqc3R1dnd4eXqDhIWGh4iJipKTlJWWl5iZmqKjpKWmp6ipqrKztLW2t7i5usLDxMXGx8jJytLT1NXW19jZ2uHi4+Tl5ufo6erx8vP09fb3+Pn6/8QAHwEAAwEBAQEBAQEBAQAAAAAAAAECAwQFBgcICQoL/8QAtREAAgECBAQDBAcFBAQAAQJ3AAECAxEEBSExBhJBUQdhcRMiMoEIFEKRobHBCSMzUvAVYnLRChYkNOEl8RcYGRomJygpKjU2Nzg5OkNERUZHSElKU1RVVldYWVpjZGVmZ2hpanN0dXZ3eHl6goOEhYaHiImKkpOUlZaXmJmaoqOkpaanqKmqsrO0tba3uLm6wsPExcbHyMnK0tPU1dbX2Nna4uPk5ebn6Onq8vP09fb3+Pn6/9oADAMBAAIRAxEAPwCi3iJYAClouApww9PXnvUI8WnAzPLn/doorqpyk29X97OScYvovuR//9k=\">"
      ],
      "text/plain": [
       "<IPython.core.display.HTML object>"
      ]
     },
     "metadata": {},
     "output_type": "display_data"
    },
    {
     "data": {
      "text/html": [
       "<img src=\"data:image/png;base64,/9j/4AAQSkZJRgABAQAAAQABAAD/2wBDAAgGBgcGBQgHBwcJCQgKDBQNDAsLDBkSEw8UHRofHh0aHBwgJC4nICIsIxwcKDcpLDAxNDQ0Hyc5PTgyPC4zNDL/2wBDAQgJCQwLDBgNDRgyIRwhMjIyMjIyMjIyMjIyMjIyMjIyMjIyMjIyMjIyMjIyMjIyMjIyMjIyMjIyMjIyMjIyMjL/wAARCAAHAAoDASIAAhEBAxEB/8QAHwAAAQUBAQEBAQEAAAAAAAAAAAECAwQFBgcICQoL/8QAtRAAAgEDAwIEAwUFBAQAAAF9AQIDAAQRBRIhMUEGE1FhByJxFDKBkaEII0KxwRVS0fAkM2JyggkKFhcYGRolJicoKSo0NTY3ODk6Q0RFRkdISUpTVFVWV1hZWmNkZWZnaGlqc3R1dnd4eXqDhIWGh4iJipKTlJWWl5iZmqKjpKWmp6ipqrKztLW2t7i5usLDxMXGx8jJytLT1NXW19jZ2uHi4+Tl5ufo6erx8vP09fb3+Pn6/8QAHwEAAwEBAQEBAQEBAQAAAAAAAAECAwQFBgcICQoL/8QAtREAAgECBAQDBAcFBAQAAQJ3AAECAxEEBSExBhJBUQdhcRMiMoEIFEKRobHBCSMzUvAVYnLRChYkNOEl8RcYGRomJygpKjU2Nzg5OkNERUZHSElKU1RVVldYWVpjZGVmZ2hpanN0dXZ3eHl6goOEhYaHiImKkpOUlZaXmJmaoqOkpaanqKmqsrO0tba3uLm6wsPExcbHyMnK0tPU1dbX2Nna4uPk5ebn6Onq8vP09fb3+Pn6/9oADAMBAAIRAxEAPwClJ4k8ggxwDG04Yenrz3qMeLZdozcS5/3RRRQB/9k=\">"
      ],
      "text/plain": [
       "<IPython.core.display.HTML object>"
      ]
     },
     "metadata": {},
     "output_type": "display_data"
    },
    {
     "data": {
      "text/html": [
       "<img src=\"data:image/png;base64,/9j/4AAQSkZJRgABAQAAAQABAAD/2wBDAAgGBgcGBQgHBwcJCQgKDBQNDAsLDBkSEw8UHRofHh0aHBwgJC4nICIsIxwcKDcpLDAxNDQ0Hyc5PTgyPC4zNDL/2wBDAQgJCQwLDBgNDRgyIRwhMjIyMjIyMjIyMjIyMjIyMjIyMjIyMjIyMjIyMjIyMjIyMjIyMjIyMjIyMjIyMjIyMjL/wAARCAAHAAoDASIAAhEBAxEB/8QAHwAAAQUBAQEBAQEAAAAAAAAAAAECAwQFBgcICQoL/8QAtRAAAgEDAwIEAwUFBAQAAAF9AQIDAAQRBRIhMUEGE1FhByJxFDKBkaEII0KxwRVS0fAkM2JyggkKFhcYGRolJicoKSo0NTY3ODk6Q0RFRkdISUpTVFVWV1hZWmNkZWZnaGlqc3R1dnd4eXqDhIWGh4iJipKTlJWWl5iZmqKjpKWmp6ipqrKztLW2t7i5usLDxMXGx8jJytLT1NXW19jZ2uHi4+Tl5ufo6erx8vP09fb3+Pn6/8QAHwEAAwEBAQEBAQEBAQAAAAAAAAECAwQFBgcICQoL/8QAtREAAgECBAQDBAcFBAQAAQJ3AAECAxEEBSExBhJBUQdhcRMiMoEIFEKRobHBCSMzUvAVYnLRChYkNOEl8RcYGRomJygpKjU2Nzg5OkNERUZHSElKU1RVVldYWVpjZGVmZ2hpanN0dXZ3eHl6goOEhYaHiImKkpOUlZaXmJmaoqOkpaanqKmqsrO0tba3uLm6wsPExcbHyMnK0tPU1dbX2Nna4uPk5ebn6Onq8vP09fb3+Pn6/9oADAMBAAIRAxEAPwDx4zxIoCwJj1xUP2iP3/KiiuKMEfTVcRNPp9x//9k=\">"
      ],
      "text/plain": [
       "<IPython.core.display.HTML object>"
      ]
     },
     "metadata": {},
     "output_type": "display_data"
    },
    {
     "data": {
      "text/html": [
       "<img src=\"data:image/png;base64,/9j/4AAQSkZJRgABAQAAAQABAAD/2wBDAAgGBgcGBQgHBwcJCQgKDBQNDAsLDBkSEw8UHRofHh0aHBwgJC4nICIsIxwcKDcpLDAxNDQ0Hyc5PTgyPC4zNDL/2wBDAQgJCQwLDBgNDRgyIRwhMjIyMjIyMjIyMjIyMjIyMjIyMjIyMjIyMjIyMjIyMjIyMjIyMjIyMjIyMjIyMjIyMjL/wAARCAAHAAoDASIAAhEBAxEB/8QAHwAAAQUBAQEBAQEAAAAAAAAAAAECAwQFBgcICQoL/8QAtRAAAgEDAwIEAwUFBAQAAAF9AQIDAAQRBRIhMUEGE1FhByJxFDKBkaEII0KxwRVS0fAkM2JyggkKFhcYGRolJicoKSo0NTY3ODk6Q0RFRkdISUpTVFVWV1hZWmNkZWZnaGlqc3R1dnd4eXqDhIWGh4iJipKTlJWWl5iZmqKjpKWmp6ipqrKztLW2t7i5usLDxMXGx8jJytLT1NXW19jZ2uHi4+Tl5ufo6erx8vP09fb3+Pn6/8QAHwEAAwEBAQEBAQEBAQAAAAAAAAECAwQFBgcICQoL/8QAtREAAgECBAQDBAcFBAQAAQJ3AAECAxEEBSExBhJBUQdhcRMiMoEIFEKRobHBCSMzUvAVYnLRChYkNOEl8RcYGRomJygpKjU2Nzg5OkNERUZHSElKU1RVVldYWVpjZGVmZ2hpanN0dXZ3eHl6goOEhYaHiImKkpOUlZaXmJmaoqOkpaanqKmqsrO0tba3uLm6wsPExcbHyMnK0tPU1dbX2Nna4uPk5ebn6Onq8vP09fb3+Pn6/9oADAMBAAIRAxEAPwDhP7VMeCIu3UHtTRrz4/1sn5UUV8/GhTe6Pl44alLdH//Z\">"
      ],
      "text/plain": [
       "<IPython.core.display.HTML object>"
      ]
     },
     "metadata": {},
     "output_type": "display_data"
    },
    {
     "data": {
      "text/html": [
       "<img src=\"data:image/png;base64,/9j/4AAQSkZJRgABAQAAAQABAAD/2wBDAAgGBgcGBQgHBwcJCQgKDBQNDAsLDBkSEw8UHRofHh0aHBwgJC4nICIsIxwcKDcpLDAxNDQ0Hyc5PTgyPC4zNDL/2wBDAQgJCQwLDBgNDRgyIRwhMjIyMjIyMjIyMjIyMjIyMjIyMjIyMjIyMjIyMjIyMjIyMjIyMjIyMjIyMjIyMjIyMjL/wAARCAAHAAoDASIAAhEBAxEB/8QAHwAAAQUBAQEBAQEAAAAAAAAAAAECAwQFBgcICQoL/8QAtRAAAgEDAwIEAwUFBAQAAAF9AQIDAAQRBRIhMUEGE1FhByJxFDKBkaEII0KxwRVS0fAkM2JyggkKFhcYGRolJicoKSo0NTY3ODk6Q0RFRkdISUpTVFVWV1hZWmNkZWZnaGlqc3R1dnd4eXqDhIWGh4iJipKTlJWWl5iZmqKjpKWmp6ipqrKztLW2t7i5usLDxMXGx8jJytLT1NXW19jZ2uHi4+Tl5ufo6erx8vP09fb3+Pn6/8QAHwEAAwEBAQEBAQEBAQAAAAAAAAECAwQFBgcICQoL/8QAtREAAgECBAQDBAcFBAQAAQJ3AAECAxEEBSExBhJBUQdhcRMiMoEIFEKRobHBCSMzUvAVYnLRChYkNOEl8RcYGRomJygpKjU2Nzg5OkNERUZHSElKU1RVVldYWVpjZGVmZ2hpanN0dXZ3eHl6goOEhYaHiImKkpOUlZaXmJmaoqOkpaanqKmqsrO0tba3uLm6wsPExcbHyMnK0tPU1dbX2Nna4uPk5ebn6Onq8vP09fb3+Pn6/9oADAMBAAIRAxEAPwDw0ysDnJpfPb+8aKK+3+uV03aT+85uVH//2Q==\">"
      ],
      "text/plain": [
       "<IPython.core.display.HTML object>"
      ]
     },
     "metadata": {},
     "output_type": "display_data"
    },
    {
     "name": "stdout",
     "output_type": "stream",
     "text": [
      "\n"
     ]
    }
   ],
   "source": [
    "# Jupyter Notebook Visualization of Images\n",
    "if __name__ == \"__main__\":\n",
    "    # setup default images\n",
    "    images = image_data()\n",
    "\n",
    "    # Sequential Processing    \n",
    "    for image in images:\n",
    "        process_image(image)\n",
    "        \n",
    "    print()"
   ]
  },
  {
   "attachments": {},
   "cell_type": "markdown",
   "metadata": {},
   "source": [
    "## Parallel Computing\n",
    "\n",
    " > In parallel or concurrent mode, the ThreadPoolExecutor is used to submit each image to a separate worker thread, allowing multiple images to be processed simultaneously. Multithreading allows multiple concurrent tasks of a process at the same time. The executor.map() method is used to apply the process_image function to each image in the images list.  \n",
    " - The order in which the images are processed is not guaranteed, as threads are performed simultaneously."
   ]
  },
  {
   "cell_type": "code",
   "execution_count": 5,
   "metadata": {},
   "outputs": [
    {
     "name": "stdout",
     "output_type": "stream",
     "text": [
      "---- meta data -----\n",
      "Green Square\n",
      "Internet\n",
      "PNG\n",
      "RGBA\n",
      "Original size:  (16, 16)\n",
      "Scaled size:  (10, 10)\n",
      "-- images --\n"
     ]
    },
    {
     "data": {
      "text/html": [
       "<img src=\"data:image/png;base64,iVBORw0KGgoAAAANSUhEUgAAAAoAAAAKCAYAAACNMs+9AAAAO0lEQVR4nGNk+M/wiYGBgYMBAf5jYf9mgSpiZcAPmJgIKECoJEXhf4KqSDWR+gqJciMLAwPDbyJM/g0AGS4JDyp4vBcAAAAASUVORK5CYII=\">"
      ],
      "text/plain": [
       "<IPython.core.display.HTML object>"
      ]
     },
     "metadata": {},
     "output_type": "display_data"
    },
    {
     "data": {
      "text/html": [
       "<img src=\"data:image/png;base64,iVBORw0KGgoAAAANSUhEUgAAAAoAAAAKCAYAAACNMs+9AAAAO0lEQVR4nGMMDQ39xMDAwMGAAP+xsH+zQBWxMuAHTEwEFCBUkqLwP0FVpJpIfYVEuZGFgYHhNxEm/wYAGS4JD3NfWUgAAAAASUVORK5CYII=\">"
      ],
      "text/plain": [
       "<IPython.core.display.HTML object>"
      ]
     },
     "metadata": {},
     "output_type": "display_data"
    },
    {
     "data": {
      "text/html": [
       "<img src=\"data:image/png;base64,iVBORw0KGgoAAAANSUhEUgAAAAoAAAAKCAYAAACNMs+9AAAAO0lEQVR4nGNkYGD4xMDAwMGAAP+xsH+zQBWxMuAHTEwEFCBUkqLwP0FVpJpIfYVEuZGFgYHhNxEm/wYAgqgIEJY3cbUAAAAASUVORK5CYII=\">"
      ],
      "text/plain": [
       "<IPython.core.display.HTML object>"
      ]
     },
     "metadata": {},
     "output_type": "display_data"
    },
    {
     "data": {
      "text/html": [
       "<img src=\"data:image/png;base64,iVBORw0KGgoAAAANSUhEUgAAAAoAAAAKCAYAAACNMs+9AAAAO0lEQVR4nGNk+M/wiYGBgYMBAf5jYf9mgSpiZcAPmJgIKECoJEXhf4KqSDWR+gqJciMLAwPDbyJM/g0AGS4JDyp4vBcAAAAASUVORK5CYII=\">"
      ],
      "text/plain": [
       "<IPython.core.display.HTML object>"
      ]
     },
     "metadata": {},
     "output_type": "display_data"
    },
    {
     "data": {
      "text/html": [
       "<img src=\"data:image/png;base64,iVBORw0KGgoAAAANSUhEUgAAAAoAAAAKCAYAAACNMs+9AAAAO0lEQVR4nGNkYGD4xMDAwMGAAP+xsH+zQBWxMuAHTEwEFCBUkqLwP0FVpJpIfYVEuZGFgYHhNxEm/wYAgqgIEJY3cbUAAAAASUVORK5CYII=\">"
      ],
      "text/plain": [
       "<IPython.core.display.HTML object>"
      ]
     },
     "metadata": {},
     "output_type": "display_data"
    },
    {
     "name": "stdout",
     "output_type": "stream",
     "text": [
      "---- meta data -----\n",
      "Clouds Impression\n",
      "Peter Carolin\n",
      "PNG\n",
      "RGBA\n",
      "Original size:  (320, 234)\n",
      "Scaled size:  (10, 7)\n",
      "-- images --\n"
     ]
    },
    {
     "data": {
      "text/html": [
       "<img src=\"data:image/png;base64,iVBORw0KGgoAAAANSUhEUgAAAAoAAAAHCAYAAAAxrNxjAAAMa2lDQ1BJQ0MgUHJvZmlsZQAAeJyVVwdYU8kWnltSSWiBUKSE3gTpVUoILYKAVMFGSAIJJcaEoGJDVFbBtYsoVnRVxEXXAsiiIvayKHbXsqiLysq6WFAUlTchAV33le+d75uZP2fO/Kdk5t47AGj18aTSPFQbgHxJgSwhMpQ1Pi2dReoEFDACkGHvxuPLpez4+BgAZWj8u7y9CRDleM1ZyfXP+f8qugKhnA8AMhHiTIGcnw9xCwD4Rr5UVgAAUam3ml4gVeJiiPVkMECI1yhxtgrvVuJMFW4etElK4EB8BQAyjceTZQOgeQ/qWYX8bMij+RFiV4lALAFAayTEQXwRTwCxMvaR+flTlbgSYntoL4UYxgN8M7/izP4bf+YwP4+XPYxVeQ0KOUwsl+bxZv6fpfnfkp+nGPJhCxtNJItKUOYPa3g7d2q0EtMg7pZkxsYpaw1xn1igqjsAKFWkiEpW2aMmfDkH1g8wIXYV8MKiITaBOEKSFxuj1mdmiSO4EMPdgs4QF3CTIDaEeLFQHp6ottkqm5qg9oXWZ8k4bLX+HE826Ffp64EiN5mt5n8lEnLV/JhmkSgpFWIqxNaF4pRYiDUhdpHnJkarbUYXiTixQzYyRYIyfmuIE4SSyFAVP1aYJYtIUNuX5cuH8sW2isTcWDU+UCBKilLVBzvF5w3GD3PBrggl7OQhHqF8fMxQLgJhWLgqd+yZUJKcqObpkxaEJqjW4lRpXrzaHrcU5kUq9ZYQe8oLE9Vr8ZQCuDlV/HiWtCA+SRUnXpTDGxOvigdfAWIAB4QBFlDAlgmmghwgbutu6Ia/VDMRgAdkIBsIgbNaM7QidXBGAvtEUAT+hEgI5MPrQgdnhaAQ6j8Na1W9M8ganC0cXJELnkCcD6JBHvytGFwlGfaWAn6HGvE/vPNg48N482BTzv97/ZD2i4YNNTFqjWLII0tryJIYTgwjRhEjiA64MR6EB+AxsA+BzR33xf2G8vhiT3hCaCc8ItwgdBDuTBGXyL6JcizogPwR6lpkfl0L3BZyeuGheCBkh8w4EzcGzrgn9MPGg6FnL6jlqONWVoX1DfffMvjq31DbUVwpKMWAEkKx/3alpqOm1zCLstZf10cVa+ZwvTnDM9/653xVfQEco7+1xBZjB7Gz2AnsPNaMNQAWdhxrxC5hR5V4eHf9Pri7hrwlDMaTC3nE//DHU/tUVlLuWuva5fpRNVcgnFGgPHicqdKZMnG2qIDFhm8HIYsr4buMZLm7ursBoHzXqB5fr5mD7xCEeeGLruQNAIGCgYGB5i+6GHjWDy2Cx//JF53dMfiYMADgXDlfIStU6XBlR4BPCS140oyAGbAC9jAfd+ANAkAICAdjQBxIAmlgMqyyCO5zGZgOZoP5oBSUgxVgLdgAtoDtYDf4ERwADaAZnABnwEVwBdwAd+Hu6QTPQQ94C/oRBCEhdISBGCHmiA3ihLgjvkgQEo7EIAlIGpKBZCMSRIHMRhYg5cgqZAOyDalBfkKOICeQ80g7cgd5iHQhr5APKIbSUD3UFLVFR6G+KBuNRpPQSWg2Og0tQheiy9BKtBrdi9ajJ9CL6A20A32O9mIA08CYmAXmjPliHCwOS8eyMBk2FyvDKrBqrA5rgv/zNawD68be40ScgbNwZ7iDo/BknI9Pw+fiS/EN+G68Hj+FX8Mf4j34ZwKdYEJwIvgTuITxhGzCdEIpoYKwk3CYcBqepU7CWyKRyCTaEX3gWUwj5hBnEZcSNxH3EVuI7cTHxF4SiWREciIFkuJIPFIBqZS0nrSXdJx0ldRJ6iNrkM3J7uQIcjpZQi4hV5D3kI+Rr5Kfkvsp2hQbij8ljiKgzKQsp+ygNFEuUzop/VQdqh01kJpEzaHOp1ZS66inqfeorzU0NCw1/DTGaYg1ijUqNfZrnNN4qPGepktzpHFoE2kK2jLaLloL7Q7tNZ1Ot6WH0NPpBfRl9Br6SfoDep8mQ9NFk6sp0JynWaVZr3lV84UWRctGi601WatIq0LroNZlrW5tiratNkebpz1Xu0r7iPYt7V4dho6bTpxOvs5SnT0653We6ZJ0bXXDdQW6C3W3657UfczAGFYMDoPPWMDYwTjN6NQj6tnpcfVy9Mr1ftRr0+vR19X31E/Rn6FfpX9Uv4OJMW2ZXGYecznzAPMm84OBqQHbQGiwxKDO4KrBO8MRhiGGQsMyw32GNww/GLGMwo1yjVYaNRjdN8aNHY3HGU833mx82rh7hN6IgBH8EWUjDoz41QQ1cTRJMJllst3kkkmvqZlppKnUdL3pSdNuM6ZZiFmO2RqzY2Zd5gzzIHOx+Rrz4+Z/sPRZbFYeq5J1itVjYWIRZaGw2GbRZtFvaWeZbFliuc/yvhXVytcqy2qNVatVj7W59Vjr2da11r/aUGx8bUQ262zO2ryztbNNtf3OtsH2mZ2hHdeuyK7W7p493T7Yfpp9tf11B6KDr0OuwyaHK46oo5ejyLHK8bIT6uTtJHba5NQ+kjDSb6RkZPXIW840Z7ZzoXOt80MXpkuMS4lLg8uLUdaj0ketHHV21GdXL9c81x2ud9103ca4lbg1ub1yd3Tnu1e5X/ege0R4zPNo9Hjp6eQp9NzseduL4TXW6zuvVq9P3j7eMu867y4fa58Mn40+t3z1fON9l/qe8yP4hfrN82v2e+/v7V/gf8D/rwDngNyAPQHPRtuNFo7eMfpxoGUgL3BbYEcQKygjaGtQR7BFMC+4OvhRiFWIIGRnyFO2AzuHvZf9ItQ1VBZ6OPQdx58zh9MShoVFhpWFtYXrhieHbwh/EGEZkR1RG9ET6RU5K7IlihAVHbUy6hbXlMvn1nB7xviMmTPmVDQtOjF6Q/SjGMcYWUzTWHTsmLGrx96LtYmVxDbEgThu3Oq4+/F28dPifx5HHBc/rmrckwS3hNkJZxMZiVMS9yS+TQpNWp50N9k+WZHcmqKVMjGlJuVdaljqqtSO8aPGzxl/Mc04TZzWmE5KT0nfmd47IXzC2gmdE70mlk68Oclu0oxJ5ycbT86bfHSK1hTelIMZhIzUjD0ZH3lxvGpebyY3c2NmD5/DX8d/LggRrBF0CQOFq4RPswKzVmU9yw7MXp3dJQoWVYi6xRzxBvHLnKicLTnvcuNyd+UO5KXm7csn52fkH5HoSnIlp6aaTZ0xtV3qJC2Vdkzzn7Z2Wo8sWrZTjsgnyRsL9OBH/SWFvWKR4mFhUGFVYd/0lOkHZ+jMkMy4NNNx5pKZT4siin6Yhc/iz2qdbTF7/uyHc9hzts1F5mbObZ1nNW/hvM7iyOLd86nzc+f/UuJasqrkzYLUBU0LTRcWL3y8KHJRbalmqaz01ncB321ZjC8WL25b4rFk/ZLPZYKyC+Wu5RXlH5fyl1743u37yu8HlmUta1vuvXzzCuIKyYqbK4NX7l6ls6po1ePVY1fXr2GtKVvzZu2UtecrPCu2rKOuU6zrqIypbFxvvX7F+o8bRBtuVIVW7dtosnHJxnebBJuubg7ZXLfFdEv5lg9bxVtvb4vcVl9tW12xnbi9cPuTHSk7zv7g+0PNTuOd5Ts/7ZLs6tidsPtUjU9NzR6TPctr0VpFbdfeiXuv/Bj2Y2Odc922fcx95fvBfsX+P37K+OnmgegDrQd9D9Ydsjm08TDjcFk9Uj+zvqdB1NDRmNbYfmTMkdamgKbDP7v8vKvZornqqP7R5ceoxxYeGzhedLy3RdrSfSL7xOPWKa13T44/ef3UuFNtp6NPnzsTcebkWfbZ4+cCzzWf9z9/5ILvhYaL3hfrL3ldOvyL1y+H27zb6i/7XG684nelqX10+7GrwVdPXAu7duY69/rFG7E32m8m37x9a+KtjtuC28/u5N15+Wvhr/13i+8R7pXd175f8cDkQfVvDr/t6/DuOPow7OGlR4mP7j7mP37+u/z3j50Ln9CfVDw1f1rzzP1Zc1dE15U/JvzR+Vz6vL+79E+dPze+sH9x6K+Qvy71jO/pfCl7OfBq6Wuj17veeL5p7Y3vffA2/23/u7I+o77d733fn/2Q+uFp//SPpI+Vnxw+NX2O/nxvIH9gQMqT8QY/BTDY0KwsAF7tAoCeBgAD3tuoE1R3wUFBVPfXQQT+E1bdFwfFG4A6OCg/4zktAOyHzbYYcocAoPyETwoBqIfHcFOLPMvDXcVFgzchQt/AwGtTAEhNAHySDQz0bxoY+LQDBnsHgJZpqjuoUojwzrA1RIluGAqKwTeiup9+leO3I1BG4Am+Hf8F+ByPa4T7yTAAAACWZVhJZk1NACoAAAAIAAUBEgADAAAAAQABAAABGgAFAAAAAQAAAEoBGwAFAAAAAQAAAFIBKAADAAAAAQACAACHaQAEAAAAAQAAAFoAAAAAAAAAkAAAAAEAAACQAAAAAQADkoYABwAAABIAAACEoAIABAAAAAEAAAFAoAMABAAAAAEAAADqAAAAAEFTQ0lJAAAAU2NyZWVuc2hvdPsldA0AAADnSURBVHicLcq9TsJQGIDh95x+Pf0NUCgJLo0DgywOJt4AXoSX5y0ZJxMnEhdF20qhtj2F4+IzP+r68ck551AKAqMYL47VzFDMhczv2Jc1jVVIlAVoTyPGYxJ6dOOZ9TLgKrT0J8uQzAguILc3SwIjBKLRypH5UPg9r7sGZSLu1ylRHCJ3RYIR8D2YCsQadu8HFvOU0AirRcwkEmST2/+o+apHPvcHqrrm4oQ8TmirCnXqkbeXZ4az5vRraYYRZ3vaAX7ansPHka4baY/fqM32wdnRAZrQVxjxmE5nLFLHOtfkaUhZlfwBR8ZWQoCeSKcAAAAASUVORK5CYII=\">"
      ],
      "text/plain": [
       "<IPython.core.display.HTML object>"
      ]
     },
     "metadata": {},
     "output_type": "display_data"
    },
    {
     "data": {
      "text/html": [
       "<img src=\"data:image/png;base64,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\">"
      ],
      "text/plain": [
       "<IPython.core.display.HTML object>"
      ]
     },
     "metadata": {},
     "output_type": "display_data"
    },
    {
     "data": {
      "text/html": [
       "<img src=\"data:image/png;base64,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\">"
      ],
      "text/plain": [
       "<IPython.core.display.HTML object>"
      ]
     },
     "metadata": {},
     "output_type": "display_data"
    },
    {
     "data": {
      "text/html": [
       "<img src=\"data:image/png;base64,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\">"
      ],
      "text/plain": [
       "<IPython.core.display.HTML object>"
      ]
     },
     "metadata": {},
     "output_type": "display_data"
    },
    {
     "data": {
      "text/html": [
       "<img src=\"data:image/png;base64,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\">"
      ],
      "text/plain": [
       "<IPython.core.display.HTML object>"
      ]
     },
     "metadata": {},
     "output_type": "display_data"
    },
    {
     "name": "stdout",
     "output_type": "stream",
     "text": [
      "---- meta data -----\n",
      "Lassen Volcano\n",
      "Peter Carolin\n",
      "JPEG\n",
      "RGB\n",
      "Original size:  (2792, 2094)\n",
      "Scaled size:  (10, 7)\n",
      "-- images --\n"
     ]
    },
    {
     "data": {
      "text/html": [
       "<img src=\"data:image/png;base64,/9j/4AAQSkZJRgABAQAAAQABAAD/2wBDAAgGBgcGBQgHBwcJCQgKDBQNDAsLDBkSEw8UHRofHh0aHBwgJC4nICIsIxwcKDcpLDAxNDQ0Hyc5PTgyPC4zNDL/2wBDAQgJCQwLDBgNDRgyIRwhMjIyMjIyMjIyMjIyMjIyMjIyMjIyMjIyMjIyMjIyMjIyMjIyMjIyMjIyMjIyMjIyMjL/wAARCAAHAAoDASIAAhEBAxEB/8QAHwAAAQUBAQEBAQEAAAAAAAAAAAECAwQFBgcICQoL/8QAtRAAAgEDAwIEAwUFBAQAAAF9AQIDAAQRBRIhMUEGE1FhByJxFDKBkaEII0KxwRVS0fAkM2JyggkKFhcYGRolJicoKSo0NTY3ODk6Q0RFRkdISUpTVFVWV1hZWmNkZWZnaGlqc3R1dnd4eXqDhIWGh4iJipKTlJWWl5iZmqKjpKWmp6ipqrKztLW2t7i5usLDxMXGx8jJytLT1NXW19jZ2uHi4+Tl5ufo6erx8vP09fb3+Pn6/8QAHwEAAwEBAQEBAQEBAQAAAAAAAAECAwQFBgcICQoL/8QAtREAAgECBAQDBAcFBAQAAQJ3AAECAxEEBSExBhJBUQdhcRMiMoEIFEKRobHBCSMzUvAVYnLRChYkNOEl8RcYGRomJygpKjU2Nzg5OkNERUZHSElKU1RVVldYWVpjZGVmZ2hpanN0dXZ3eHl6goOEhYaHiImKkpOUlZaXmJmaoqOkpaanqKmqsrO0tba3uLm6wsPExcbHyMnK0tPU1dbX2Nna4uPk5ebn6Onq8vP09fb3+Pn6/9oADAMBAAIRAxEAPwCi3iJYAClouApww9PXnvUI8WnAzPLn/doorqpyk29X97OScYvovuR//9k=\">"
      ],
      "text/plain": [
       "<IPython.core.display.HTML object>"
      ]
     },
     "metadata": {},
     "output_type": "display_data"
    },
    {
     "data": {
      "text/html": [
       "<img src=\"data:image/png;base64,/9j/4AAQSkZJRgABAQAAAQABAAD/2wBDAAgGBgcGBQgHBwcJCQgKDBQNDAsLDBkSEw8UHRofHh0aHBwgJC4nICIsIxwcKDcpLDAxNDQ0Hyc5PTgyPC4zNDL/2wBDAQgJCQwLDBgNDRgyIRwhMjIyMjIyMjIyMjIyMjIyMjIyMjIyMjIyMjIyMjIyMjIyMjIyMjIyMjIyMjIyMjIyMjL/wAARCAAHAAoDASIAAhEBAxEB/8QAHwAAAQUBAQEBAQEAAAAAAAAAAAECAwQFBgcICQoL/8QAtRAAAgEDAwIEAwUFBAQAAAF9AQIDAAQRBRIhMUEGE1FhByJxFDKBkaEII0KxwRVS0fAkM2JyggkKFhcYGRolJicoKSo0NTY3ODk6Q0RFRkdISUpTVFVWV1hZWmNkZWZnaGlqc3R1dnd4eXqDhIWGh4iJipKTlJWWl5iZmqKjpKWmp6ipqrKztLW2t7i5usLDxMXGx8jJytLT1NXW19jZ2uHi4+Tl5ufo6erx8vP09fb3+Pn6/8QAHwEAAwEBAQEBAQEBAQAAAAAAAAECAwQFBgcICQoL/8QAtREAAgECBAQDBAcFBAQAAQJ3AAECAxEEBSExBhJBUQdhcRMiMoEIFEKRobHBCSMzUvAVYnLRChYkNOEl8RcYGRomJygpKjU2Nzg5OkNERUZHSElKU1RVVldYWVpjZGVmZ2hpanN0dXZ3eHl6goOEhYaHiImKkpOUlZaXmJmaoqOkpaanqKmqsrO0tba3uLm6wsPExcbHyMnK0tPU1dbX2Nna4uPk5ebn6Onq8vP09fb3+Pn6/9oADAMBAAIRAxEAPwClJ4k8ggxwDG04Yenrz3qMeLZdozcS5/3RRRQB/9k=\">"
      ],
      "text/plain": [
       "<IPython.core.display.HTML object>"
      ]
     },
     "metadata": {},
     "output_type": "display_data"
    },
    {
     "data": {
      "text/html": [
       "<img src=\"data:image/png;base64,/9j/4AAQSkZJRgABAQAAAQABAAD/2wBDAAgGBgcGBQgHBwcJCQgKDBQNDAsLDBkSEw8UHRofHh0aHBwgJC4nICIsIxwcKDcpLDAxNDQ0Hyc5PTgyPC4zNDL/2wBDAQgJCQwLDBgNDRgyIRwhMjIyMjIyMjIyMjIyMjIyMjIyMjIyMjIyMjIyMjIyMjIyMjIyMjIyMjIyMjIyMjIyMjL/wAARCAAHAAoDASIAAhEBAxEB/8QAHwAAAQUBAQEBAQEAAAAAAAAAAAECAwQFBgcICQoL/8QAtRAAAgEDAwIEAwUFBAQAAAF9AQIDAAQRBRIhMUEGE1FhByJxFDKBkaEII0KxwRVS0fAkM2JyggkKFhcYGRolJicoKSo0NTY3ODk6Q0RFRkdISUpTVFVWV1hZWmNkZWZnaGlqc3R1dnd4eXqDhIWGh4iJipKTlJWWl5iZmqKjpKWmp6ipqrKztLW2t7i5usLDxMXGx8jJytLT1NXW19jZ2uHi4+Tl5ufo6erx8vP09fb3+Pn6/8QAHwEAAwEBAQEBAQEBAQAAAAAAAAECAwQFBgcICQoL/8QAtREAAgECBAQDBAcFBAQAAQJ3AAECAxEEBSExBhJBUQdhcRMiMoEIFEKRobHBCSMzUvAVYnLRChYkNOEl8RcYGRomJygpKjU2Nzg5OkNERUZHSElKU1RVVldYWVpjZGVmZ2hpanN0dXZ3eHl6goOEhYaHiImKkpOUlZaXmJmaoqOkpaanqKmqsrO0tba3uLm6wsPExcbHyMnK0tPU1dbX2Nna4uPk5ebn6Onq8vP09fb3+Pn6/9oADAMBAAIRAxEAPwDx4zxIoCwJj1xUP2iP3/KiiuKMEfTVcRNPp9x//9k=\">"
      ],
      "text/plain": [
       "<IPython.core.display.HTML object>"
      ]
     },
     "metadata": {},
     "output_type": "display_data"
    },
    {
     "data": {
      "text/html": [
       "<img src=\"data:image/png;base64,/9j/4AAQSkZJRgABAQAAAQABAAD/2wBDAAgGBgcGBQgHBwcJCQgKDBQNDAsLDBkSEw8UHRofHh0aHBwgJC4nICIsIxwcKDcpLDAxNDQ0Hyc5PTgyPC4zNDL/2wBDAQgJCQwLDBgNDRgyIRwhMjIyMjIyMjIyMjIyMjIyMjIyMjIyMjIyMjIyMjIyMjIyMjIyMjIyMjIyMjIyMjIyMjL/wAARCAAHAAoDASIAAhEBAxEB/8QAHwAAAQUBAQEBAQEAAAAAAAAAAAECAwQFBgcICQoL/8QAtRAAAgEDAwIEAwUFBAQAAAF9AQIDAAQRBRIhMUEGE1FhByJxFDKBkaEII0KxwRVS0fAkM2JyggkKFhcYGRolJicoKSo0NTY3ODk6Q0RFRkdISUpTVFVWV1hZWmNkZWZnaGlqc3R1dnd4eXqDhIWGh4iJipKTlJWWl5iZmqKjpKWmp6ipqrKztLW2t7i5usLDxMXGx8jJytLT1NXW19jZ2uHi4+Tl5ufo6erx8vP09fb3+Pn6/8QAHwEAAwEBAQEBAQEBAQAAAAAAAAECAwQFBgcICQoL/8QAtREAAgECBAQDBAcFBAQAAQJ3AAECAxEEBSExBhJBUQdhcRMiMoEIFEKRobHBCSMzUvAVYnLRChYkNOEl8RcYGRomJygpKjU2Nzg5OkNERUZHSElKU1RVVldYWVpjZGVmZ2hpanN0dXZ3eHl6goOEhYaHiImKkpOUlZaXmJmaoqOkpaanqKmqsrO0tba3uLm6wsPExcbHyMnK0tPU1dbX2Nna4uPk5ebn6Onq8vP09fb3+Pn6/9oADAMBAAIRAxEAPwDhP7VMeCIu3UHtTRrz4/1sn5UUV8/GhTe6Pl44alLdH//Z\">"
      ],
      "text/plain": [
       "<IPython.core.display.HTML object>"
      ]
     },
     "metadata": {},
     "output_type": "display_data"
    },
    {
     "data": {
      "text/html": [
       "<img src=\"data:image/png;base64,/9j/4AAQSkZJRgABAQAAAQABAAD/2wBDAAgGBgcGBQgHBwcJCQgKDBQNDAsLDBkSEw8UHRofHh0aHBwgJC4nICIsIxwcKDcpLDAxNDQ0Hyc5PTgyPC4zNDL/2wBDAQgJCQwLDBgNDRgyIRwhMjIyMjIyMjIyMjIyMjIyMjIyMjIyMjIyMjIyMjIyMjIyMjIyMjIyMjIyMjIyMjIyMjL/wAARCAAHAAoDASIAAhEBAxEB/8QAHwAAAQUBAQEBAQEAAAAAAAAAAAECAwQFBgcICQoL/8QAtRAAAgEDAwIEAwUFBAQAAAF9AQIDAAQRBRIhMUEGE1FhByJxFDKBkaEII0KxwRVS0fAkM2JyggkKFhcYGRolJicoKSo0NTY3ODk6Q0RFRkdISUpTVFVWV1hZWmNkZWZnaGlqc3R1dnd4eXqDhIWGh4iJipKTlJWWl5iZmqKjpKWmp6ipqrKztLW2t7i5usLDxMXGx8jJytLT1NXW19jZ2uHi4+Tl5ufo6erx8vP09fb3+Pn6/8QAHwEAAwEBAQEBAQEBAQAAAAAAAAECAwQFBgcICQoL/8QAtREAAgECBAQDBAcFBAQAAQJ3AAECAxEEBSExBhJBUQdhcRMiMoEIFEKRobHBCSMzUvAVYnLRChYkNOEl8RcYGRomJygpKjU2Nzg5OkNERUZHSElKU1RVVldYWVpjZGVmZ2hpanN0dXZ3eHl6goOEhYaHiImKkpOUlZaXmJmaoqOkpaanqKmqsrO0tba3uLm6wsPExcbHyMnK0tPU1dbX2Nna4uPk5ebn6Onq8vP09fb3+Pn6/9oADAMBAAIRAxEAPwDw0ysDnJpfPb+8aKK+3+uV03aT+85uVH//2Q==\">"
      ],
      "text/plain": [
       "<IPython.core.display.HTML object>"
      ]
     },
     "metadata": {},
     "output_type": "display_data"
    },
    {
     "name": "stdout",
     "output_type": "stream",
     "text": [
      "\n"
     ]
    }
   ],
   "source": [
    "import concurrent.futures\n",
    "\n",
    "# Jupyter Notebook Visualization of Images\n",
    "if __name__ == \"__main__\":\n",
    "    # setup default images\n",
    "    images = image_data()\n",
    "    \n",
    "    # Parallel Processsing\n",
    "    # executor allocates threads, it considers core execution capability of machine\n",
    "    with concurrent.futures.ThreadPoolExecutor() as executor:\n",
    "        executor.map(process_image, images)  # order is not predictable\n",
    "        \n",
    "    print()"
   ]
  },
  {
   "attachments": {},
   "cell_type": "markdown",
   "metadata": {},
   "source": [
    "## Observing Parallel Computing and Threads\n",
    "> You can observe Processes, CPU Percentage, and Threads with Tools on your machine. Common tools to monitor performance are Activity Monitor on MacOS or Task Manager on Windows.   \n",
    "\n",
    "- This example is using ```top``` launched in VSCode Terminal. (mac)\n",
    "- Try ```top -H``` for linux.\n",
    "![](images/top.png)\n",
    "    - PID is Process ID.  \n",
    "    - COMMAND is task running on machine.  Python is activated when running this Jupyter notebook.\n",
    "    - #TH is number of threads.   This increases from 15/1 to 18/1 on my machine when running python parallel computing example.\n"
   ]
  },
  {
   "attachments": {},
   "cell_type": "markdown",
   "metadata": {},
   "source": [
    "## Hacks\n",
    "> AP Classroom. Provide answers and thoughts on theoritical question form college board Video in section 4.3.  They start at about the 9 minute mark.\n",
    "\n",
    "> __Notes__\n",
    "- Types of computing\n",
    "    - Computers can complete tasks sequentially, or by using parallel or distrubuted computing\n",
    "    - Whichever takes the least processing time is the best option\n",
    "- Sequential: operations performed one at a time, and in order. Takes as long as it needs to run all steps in order.\n",
    "- Parallel: multiple smaller operations that can be done at the same time. time is needed for sequential and parallel portions, kind of stacked. Generally more efficient but not infinitely, as there is a set place where it will become less effective than sequential computing. \n",
    "- Distributed: uses mutiple computers, takes the time it needs to do a sequential task divided by the time it needs for a parallel task. Good for large-scale problems.\n",
    "\n",
    "- __Example 1__\n",
    "    - ![]({{ site.baseurl }}/images/E1.png)\n",
    "    - I said 50 seconds due to knowing that all of the processes will run together in parallel computing. Process Y will finish at 10 seconds, then Z will finish at 30 seconds, then X will finally finish at 50 seconds. All orocesses will effectively finish in the time it takes the longest process to run. \n",
    "    - Correct answer is 50 seconds\n",
    "- __Example 2__\n",
    "    - ![]({{ site.baseurl }}/images/E2.png)\n",
    "    - I said 25 seconds because the time for the two processes to run in parallel would be 45 seconds, since both would run at the same time, as seen in example 1. Both processes would need to run after the other for sequential processing, which would take 70 seconds. 70-45 is 25, so the difference would be 25.\n",
    "    - Correct answer is 25 seconds\n",
    "\n",
    "\n",
    "> Data Structures.  Build a List Comprehension example\n",
    "- list = [calc(item) for item in items]"
   ]
  }
 ],
 "metadata": {
  "kernelspec": {
   "display_name": "base",
   "language": "python",
   "name": "python3"
  },
  "language_info": {
   "codemirror_mode": {
    "name": "ipython",
    "version": 3
   },
   "file_extension": ".py",
   "mimetype": "text/x-python",
   "name": "python",
   "nbconvert_exporter": "python",
   "pygments_lexer": "ipython3",
   "version": "3.9.12"
  },
  "orig_nbformat": 4
 },
 "nbformat": 4,
 "nbformat_minor": 2
}
