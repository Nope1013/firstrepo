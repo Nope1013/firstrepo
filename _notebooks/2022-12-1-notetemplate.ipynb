{
 "cells": [
  {
   "cell_type": "markdown",
   "metadata": {},
   "source": [
    "# Note Template\n",
    "- comments: true"
   ]
  },
  {
   "attachments": {},
   "cell_type": "markdown",
   "metadata": {},
   "source": [
    "# What are procedures?\n",
    "\n",
    "**Fill in the blanks please:**\n",
    "\n",
    "Procedure: a named group of programming instructions that may have parameters and return values\n",
    "\n",
    "Parameters: input values of a procedure\n",
    "\n",
    "Arguments: specify the values of the parameters when a procedure is called\n",
    "\n",
    "Modularity: separating a program's functions into independent pieces or blocks, each containing all the parts needed to execute a single aspect of the functionality\n",
    "\n",
    "Procedural Abstraction: allows a procedure to be used only knowing WHAT it does, not HOW it does it\n",
    "\n",
    "What are some other names for procedures?: methods or functions, it all depends on the language\n",
    "\n",
    "Why are procedures effective?: allows for the changing of code without altering the program calls, making it much easier and more efficient than reading line-by-line"
   ]
  },
  {
   "attachments": {},
   "cell_type": "markdown",
   "metadata": {},
   "source": [
    "### Additional Notes\n",
    "\n",
    "- Procedure calls interrupt a series of statements so the program executes the statements in the procedure\n",
    "- After it is complete, it returns to the original statements to finish them\n",
    "- It is necessary to examine the code line by line to confirm a procedure\n",
    "- A procedure MAY or MAY NOT return a number or boolean\n",
    "- To call a procedure you would write the name of the procedure followed by the parentheses with the parameters of the procedure\n",
    "\n",
    "### Questions to ask when developing a procedure\n",
    "\n",
    "- What am I going to name my procedure? (It should reflect the purpose of the code)\n",
    "- What parameters do I need?\n",
    "- What data would I need to take in to accomplish my goal?\n",
    "- Do I want my procedure to give a numerical value, or complete an action?"
   ]
  },
  {
   "attachments": {},
   "cell_type": "markdown",
   "metadata": {},
   "source": [
    "## <mark>Challenge 1</mark> below: Add the command that will **call** the procedure. "
   ]
  },
  {
   "cell_type": "code",
   "execution_count": 1,
   "metadata": {},
   "outputs": [
    {
     "name": "stdout",
     "output_type": "stream",
     "text": [
      "111\n"
     ]
    }
   ],
   "source": [
    "decimal = 7\n",
    "\n",
    "def convertToBinary(n):\n",
    "    binary = \"\"\n",
    "    while int(n) > 0:\n",
    "        binary+=str(int(n%2))\n",
    "        n = n / 2\n",
    "    print(binary[::-1]) # how to reverse string\n",
    "        \n",
    "n = int(input('Enter the decimal integer of choice'))\n",
    "convertToBinary(n) # I entered 7"
   ]
  },
  {
   "attachments": {},
   "cell_type": "markdown",
   "metadata": {},
   "source": [
    "## <mark>Challenge 2</mark> below: Complete the Min and Max procedure in either JavaScript and Python using the instructions from the JavaScript page. (JavaScript may get you extra)"
   ]
  },
  {
   "cell_type": "code",
   "execution_count": null,
   "metadata": {
    "vscode": {
     "languageId": "javascript"
    }
   },
   "outputs": [],
   "source": [
    "// my javascript kernel is broken and has never worked, but I did the challenge in js anyways, it just won't run\n",
    "function findmax(numA,numB) {\n",
    "    if (numA > numB) { \n",
    "        return numA;\n",
    "    }\n",
    "    else {\n",
    "        return numB;\n",
    "}\n",
    "}\n",
    "\n",
    "function findmin(numA, numB) {\n",
    "    if (numA < numB) {\n",
    "        return numA;\n",
    "    }\n",
    "    else {\n",
    "        return numB\n",
    "    }\n",
    "}\n",
    "\n",
    "console.log(findmax(1, 10));\n",
    "console.log(findmin(1, 10));"
   ]
  },
  {
   "attachments": {},
   "cell_type": "markdown",
   "metadata": {},
   "source": [
    "## <mark>Homework/Hacks</mark>: For the hw, you have two options. The first hack is for a 0.7 + extra work for the full 1. Simply create your own procedure with your own creativity. Since there is a lot of leeway for this one, you must do a LOT additional work to get a 1. For the other option, below is the start to a character to binary convertor. This is just a template, but the goal is to translate \"APCSP\" into binary. The only contraint is that you must use a procedure. If this is completed along with extra work, you can get a 1. "
   ]
  },
  {
   "cell_type": "code",
   "execution_count": 7,
   "metadata": {},
   "outputs": [
    {
     "name": "stdout",
     "output_type": "stream",
     "text": [
      "apcsp  converted to binary is \n",
      "0110000101110000011000110111001101110000"
     ]
    }
   ],
   "source": [
    "# procedure that converts words to binary\n",
    "def convertToBinary(n):\n",
    "    if n >= 1:\n",
    "        convertToBinary(n // 2)  \n",
    "    print(n % 2, end = '') \n",
    "\n",
    "\n",
    "def bin(word):\n",
    "    list = []\n",
    "    for character in str(word):\n",
    "        list.append(character)\n",
    "    for item in list:\n",
    "        index = list.index(item)\n",
    "        unicode = ord(item) # ord function returns the unicode for a character\n",
    "        list[index] = unicode\n",
    "    for i in list:\n",
    "        x = list.index(i)\n",
    "        new = convertToBinary(i)\n",
    "        list[int(x)] = unicode\n",
    "\n",
    "word = input(\"enter word\")\n",
    "print(word, \" converted to binary is \")\n",
    "bin(word)"
   ]
  }
 ],
 "metadata": {
  "kernelspec": {
   "display_name": "Python 3.8.2 64-bit",
   "language": "python",
   "name": "python3"
  },
  "language_info": {
   "codemirror_mode": {
    "name": "ipython",
    "version": 3
   },
   "file_extension": ".py",
   "mimetype": "text/x-python",
   "name": "python",
   "nbconvert_exporter": "python",
   "pygments_lexer": "ipython3",
   "version": "3.8.10"
  },
  "orig_nbformat": 4,
  "vscode": {
   "interpreter": {
    "hash": "916dbcbb3f70747c44a77c7bcd40155683ae19c65e1c03b4aa3499c5328201f1"
   }
  }
 },
 "nbformat": 4,
 "nbformat_minor": 2
}
