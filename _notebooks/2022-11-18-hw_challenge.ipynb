{
 "cells": [
  {
   "cell_type": "markdown",
   "metadata": {},
   "source": [
    "# Expressions and strings\n",
    "> The lesson, notes, and homework assignment\n",
    "\n",
    "- toc: true \n",
    "- comments: true\n",
    "- categories: [jupyter, Week 13]"
   ]
  },
  {
   "cell_type": "markdown",
   "metadata": {},
   "source": [
    "### Vocab\n",
    "\n",
    "fill in the blanks\n",
    "\n",
    "the symbol for exponent is ^\n",
    "the symbol for addition is +\n",
    "the symbol for subtraction is -\n",
    "the symbol for multiplication is *\n",
    "the symbol for division is /\n",
    "the symbol for modulus is %\n",
    "an algorithm is a sequence of steps that performs a specific task"
   ]
  },
  {
   "cell_type": "markdown",
   "metadata": {},
   "source": [
    "### Sequencing Practice\n",
    "\n",
    "the code below does not follow the intended steps below. change the code so that it does so.\n",
    "\n",
    "1. divide value1 by 10(value1 = 5)\n",
    "2. multiply 2 from the result of the step 1\n",
    "3. subtract 4 from the result of the step 2\n",
    "4. print the result of step 3"
   ]
  },
  {
   "cell_type": "code",
   "execution_count": null,
   "metadata": {},
   "outputs": [],
   "source": [
    "value1 = 5\n",
    "value2 = value1 ? 1 #step 1\n",
    "value3 = value2 ? 2 #step 2\n",
    "value4 = value3 ? 6 #step 3\n",
    "print(value4)"
   ]
  },
  {
   "cell_type": "code",
   "execution_count": 1,
   "metadata": {},
   "outputs": [
    {
     "name": "stdout",
     "output_type": "stream",
     "text": [
      "-3.0\n"
     ]
    }
   ],
   "source": [
    "# my solution\n",
    "value1 = 5\n",
    "value2 = value1 / 10 #step 1\n",
    "value3 = value2 * 2 #step 2\n",
    "value4 = value3 - 4 #step 3\n",
    "print(value4)\n",
    "# calue 4 is -3"
   ]
  },
  {
   "cell_type": "markdown",
   "metadata": {},
   "source": [
    "### Selection/Iteration Practice\n",
    "\n",
    "Create a function to print ONLY the numbers of numlist that are divisble by 3."
   ]
  },
  {
   "cell_type": "code",
   "execution_count": 2,
   "metadata": {},
   "outputs": [
    {
     "name": "stdout",
     "output_type": "stream",
     "text": [
      "3 is divisible by 3\n",
      "9 is divisible by 3\n",
      "891 is divisible by 3\n"
     ]
    }
   ],
   "source": [
    "numlist = \"3\",\"4\",\"9\",\"76\",\"891\"\n",
    "for i in numlist:\n",
    "    if int(i) % 3 == 0:\n",
    "        print( str(i) + \" is divisible by 3\")\n",
    "    else:\n",
    "        continue"
   ]
  },
  {
   "cell_type": "markdown",
   "metadata": {},
   "source": [
    "### Homework/Binary Adaptation\n",
    "\n",
    "Create a python function that will convert a decimal number 1-255 to binary using mathematical operations and powers of 2. Challenge: add frontend with javascript or html."
   ]
  },
  {
   "cell_type": "code",
   "execution_count": 1,
   "metadata": {},
   "outputs": [
    {
     "name": "stdout",
     "output_type": "stream",
     "text": [
      "11110\n"
     ]
    }
   ],
   "source": [
    "# I cannot use js so I used html\n",
    "def convert(n):\n",
    "    binary = \"\"\n",
    "    while int(n) > 0:\n",
    "        binary+=str(int(n%2))\n",
    "        n = n / 2\n",
    "    print(binary[::-1]) # how to reverse string\n",
    "        \n",
    "n = int(input('Enter a number 1-255'))\n",
    "convert(n)\n",
    "# I input 30 to get the binary 11110"
   ]
  },
  {
   "cell_type": "markdown",
   "metadata": {},
   "source": [
    "### Vocab\n",
    "\n",
    "fill in the blanks using the video\n",
    "\n",
    "Index is a number representing a position, like a character's position in a string or a string's position in a list\n",
    "Concatenation is combining two strings\n",
    "Length is how many characters are in a string \n",
    "A substring is part of a string\n",
    "Pseudocode is writing out a program in plain language with keywords that are used to refer to common coding concepts"
   ]
  },
  {
   "cell_type": "markdown",
   "metadata": {},
   "source": [
    "### Substring/length practice"
   ]
  },
  {
   "cell_type": "code",
   "execution_count": 2,
   "metadata": {},
   "outputs": [
    {
     "name": "stdout",
     "output_type": "stream",
     "text": [
      "8\n",
      "hello\n",
      "bye\n"
     ]
    }
   ],
   "source": [
    "# the length is 8, so 0-5 is \"h-e-l-l-o\" and 5-8 is \"b-y-e\"\n",
    "string = \"hellobye\"\n",
    "print(len(string))\n",
    "print(string[0 : 5])\n",
    "print(string[5 : 8])"
   ]
  },
  {
   "cell_type": "markdown",
   "metadata": {},
   "source": [
    "### Concatenation practice"
   ]
  },
  {
   "cell_type": "code",
   "execution_count": 3,
   "metadata": {},
   "outputs": [
    {
     "name": "stdout",
     "output_type": "stream",
     "text": [
      "noor grewal\n"
     ]
    }
   ],
   "source": [
    "string1 = \"noor\"\n",
    "string2 = \"grewal\"\n",
    "string3 = string1 + \" \" + string2 # added a space in between for readability\n",
    "print(string3)"
   ]
  },
  {
   "cell_type": "markdown",
   "metadata": {},
   "source": [
    "### Homework/List Adaptation\n",
    "\n",
    "create a function that prints the name of each string in the list and the string's length."
   ]
  },
  {
   "cell_type": "code",
   "execution_count": 5,
   "metadata": {},
   "outputs": [
    {
     "name": "stdout",
     "output_type": "stream",
     "text": [
      "jaden: length 5\n",
      "max: length 3\n",
      "dylan: length 5\n",
      "orlando: length 7\n"
     ]
    }
   ],
   "source": [
    "names = [\"jaden\",\"max\",\"dylan\",\"orlando\"]\n",
    "\n",
    "def length(list):\n",
    "    for name in names:\n",
    "        print(name + \": length \" + str(len(name)))\n",
    "\n",
    "length(names)"
   ]
  }
 ],
 "metadata": {
  "kernelspec": {
   "display_name": "Python 3.8.10 64-bit",
   "language": "python",
   "name": "python3"
  },
  "language_info": {
   "codemirror_mode": {
    "name": "ipython",
    "version": 3
   },
   "file_extension": ".py",
   "mimetype": "text/x-python",
   "name": "python",
   "nbconvert_exporter": "python",
   "pygments_lexer": "ipython3",
   "version": "3.8.10"
  },
  "orig_nbformat": 4,
  "vscode": {
   "interpreter": {
    "hash": "916dbcbb3f70747c44a77c7bcd40155683ae19c65e1c03b4aa3499c5328201f1"
   }
  }
 },
 "nbformat": 4,
 "nbformat_minor": 2
}
